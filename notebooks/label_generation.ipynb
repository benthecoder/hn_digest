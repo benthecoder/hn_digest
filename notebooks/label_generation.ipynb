{
 "cells": [
  {
   "cell_type": "markdown",
   "metadata": {},
   "source": [
    "# Synthetic Label Generation\n",
    "\n",
    "with `deepseek-r1-distill-qwen-7b`\n"
   ]
  },
  {
   "cell_type": "markdown",
   "metadata": {},
   "source": [
    "## Hackernews data\n",
    "\n",
    "https://huggingface.co/datasets/julien040/hacker-news-posts\n"
   ]
  },
  {
   "cell_type": "code",
   "execution_count": 1,
   "metadata": {},
   "outputs": [
    {
     "data": {
      "application/vnd.jupyter.widget-view+json": {
       "model_id": "071c3adf67b249609d6a0e1a5d2e545a",
       "version_major": 2,
       "version_minor": 0
      },
      "text/plain": [
       "Fetching 1 files:   0%|          | 0/1 [00:00<?, ?it/s]"
      ]
     },
     "metadata": {},
     "output_type": "display_data"
    },
    {
     "data": {
      "text/html": [
       "<div><style>\n",
       ".dataframe > thead > tr,\n",
       ".dataframe > tbody > tr {\n",
       "  text-align: right;\n",
       "  white-space: pre-wrap;\n",
       "}\n",
       "</style>\n",
       "<small>shape: (1, 7)</small><table border=\"1\" class=\"dataframe\"><thead><tr><th>id</th><th>title</th><th>url</th><th>score</th><th>time</th><th>comments</th><th>author</th></tr><tr><td>i32</td><td>str</td><td>str</td><td>i32</td><td>i32</td><td>i32</td><td>str</td></tr></thead><tbody><tr><td>3404047</td><td>&quot;Copyright Office Seeks To Make…</td><td>&quot;http://www.techdirt.com/articl…</td><td>31</td><td>1325175114</td><td>2</td><td>&quot;nextparadigms&quot;</td></tr></tbody></table></div>"
      ],
      "text/plain": [
       "shape: (1, 7)\n",
       "┌─────────┬────────────────────┬───────────────────┬───────┬────────────┬──────────┬───────────────┐\n",
       "│ id      ┆ title              ┆ url               ┆ score ┆ time       ┆ comments ┆ author        │\n",
       "│ ---     ┆ ---                ┆ ---               ┆ ---   ┆ ---        ┆ ---      ┆ ---           │\n",
       "│ i32     ┆ str                ┆ str               ┆ i32   ┆ i32        ┆ i32      ┆ str           │\n",
       "╞═════════╪════════════════════╪═══════════════════╪═══════╪════════════╪══════════╪═══════════════╡\n",
       "│ 3404047 ┆ Copyright Office   ┆ http://www.techdi ┆ 31    ┆ 1325175114 ┆ 2        ┆ nextparadigms │\n",
       "│         ┆ Seeks To Make…     ┆ rt.com/articl…    ┆       ┆            ┆          ┆               │\n",
       "└─────────┴────────────────────┴───────────────────┴───────┴────────────┴──────────┴───────────────┘"
      ]
     },
     "execution_count": 1,
     "metadata": {},
     "output_type": "execute_result"
    }
   ],
   "source": [
    "import os\n",
    "\n",
    "import polars as pl\n",
    "from huggingface_hub import snapshot_download\n",
    "\n",
    "os.environ[\"HF_HUB_ENABLE_HF_TRANSFER\"] = \"1\"  # turn on HF_TRANSFER\n",
    "\n",
    "files = snapshot_download(\n",
    "    repo_id=\"julien040/hacker-news-posts\",\n",
    "    allow_patterns=[\"*.parquet\"],\n",
    "    repo_type=\"dataset\",\n",
    ")\n",
    "\n",
    "df = pl.scan_parquet(files)\n",
    "df.head(1).collect()"
   ]
  },
  {
   "cell_type": "code",
   "execution_count": 2,
   "metadata": {},
   "outputs": [
    {
     "name": "stdout",
     "output_type": "stream",
     "text": [
      "Min score: -1\n",
      "Max score: 6015\n"
     ]
    },
    {
     "data": {
      "text/html": [
       "<div><style>\n",
       ".dataframe > thead > tr,\n",
       ".dataframe > tbody > tr {\n",
       "  text-align: right;\n",
       "  white-space: pre-wrap;\n",
       "}\n",
       "</style>\n",
       "<small>shape: (6, 2)</small><table border=\"1\" class=\"dataframe\"><thead><tr><th>score_range</th><th>len</th></tr><tr><td>cat</td><td>u32</td></tr></thead><tbody><tr><td>&quot;0-300&quot;</td><td>3977967</td></tr><tr><td>&quot;301-500&quot;</td><td>21990</td></tr><tr><td>&quot;501-1000&quot;</td><td>9347</td></tr><tr><td>&quot;1001-2000&quot;</td><td>1488</td></tr><tr><td>&quot;2001-5000&quot;</td><td>163</td></tr><tr><td>&quot;5000+&quot;</td><td>2</td></tr></tbody></table></div>"
      ],
      "text/plain": [
       "shape: (6, 2)\n",
       "┌─────────────┬─────────┐\n",
       "│ score_range ┆ len     │\n",
       "│ ---         ┆ ---     │\n",
       "│ cat         ┆ u32     │\n",
       "╞═════════════╪═════════╡\n",
       "│ 0-300       ┆ 3977967 │\n",
       "│ 301-500     ┆ 21990   │\n",
       "│ 501-1000    ┆ 9347    │\n",
       "│ 1001-2000   ┆ 1488    │\n",
       "│ 2001-5000   ┆ 163     │\n",
       "│ 5000+       ┆ 2       │\n",
       "└─────────────┴─────────┘"
      ]
     },
     "execution_count": 2,
     "metadata": {},
     "output_type": "execute_result"
    }
   ],
   "source": [
    "# First, let's check our data\n",
    "print(\"Min score:\", df.select(pl.col(\"score\")).min().collect().item())\n",
    "print(\"Max score:\", df.select(pl.col(\"score\")).max().collect().item())\n",
    "\n",
    "# Then create the distribution\n",
    "score_distribution = (\n",
    "    df.select(pl.col(\"score\"))\n",
    "    .with_columns(\n",
    "        pl.col(\"score\")\n",
    "        .cut(\n",
    "            breaks=[300, 500, 1000, 2000, 5000],\n",
    "            labels=[\n",
    "                \"0-300\",\n",
    "                \"301-500\",\n",
    "                \"501-1000\",\n",
    "                \"1001-2000\",\n",
    "                \"2001-5000\",\n",
    "                \"5000+\"\n",
    "            ],\n",
    "        )\n",
    "        .alias(\"score_range\")\n",
    "    )\n",
    "    .group_by(\"score_range\")\n",
    "    .len()\n",
    "    .sort(\"score_range\")\n",
    ")\n",
    "\n",
    "score_distribution.collect()"
   ]
  },
  {
   "cell_type": "code",
   "execution_count": 3,
   "metadata": {},
   "outputs": [
    {
     "data": {
      "text/plain": [
       "['Steve Jobs has passed away.',\n",
       " \"Sellers printing counterfeit books and selling under Amazon's brand\",\n",
       " 'What does the ??!??! operator do in C?',\n",
       " 'React.js Introduction for People Who Know Just Enough JQuery',\n",
       " 'Email a Dumpster Fire',\n",
       " 'A Billionaire Mathematician’s Life of Ferocious Curiosity',\n",
       " \"NSA shares raw intelligence including Americans' data with Israel\",\n",
       " 'Washington Post Is First Paper to Call for Prosecution of Its Own Source',\n",
       " 'Uber Fires Anthony Levandowski',\n",
       " 'AlphaGo Zero: Learning from scratch']"
      ]
     },
     "execution_count": 3,
     "metadata": {},
     "output_type": "execute_result"
    }
   ],
   "source": [
    "df = df.filter(\n",
    "    (pl.col(\"score\") >= 500) & ~pl.col(\"title\").str.contains(\"Show HN|Ask HN\")\n",
    ").collect()\n",
    "\n",
    "examples = df.sample(n=10, seed=500).select(\"title\").to_series().to_list()\n",
    "examples"
   ]
  },
  {
   "cell_type": "markdown",
   "metadata": {},
   "source": [
    "## structured generation\n"
   ]
  },
  {
   "cell_type": "code",
   "execution_count": 4,
   "metadata": {},
   "outputs": [],
   "source": [
    "from enum import Enum\n",
    "from typing import Dict, Union\n",
    "from pydantic import BaseModel, constr\n",
    "\n",
    "\n",
    "class HackerNewsLabel(str, Enum):\n",
    "    DEV = \"dev\"  # Programming languages, coding practices, software development techniques\n",
    "    WEB = \"web\"  # Web development, browsers, frontend/backend frameworks, web standards\n",
    "    AI_ML = \"ai_ml\"  # Artificial intelligence, machine learning, data science\n",
    "    SECURITY = \"security\"  # Cybersecurity, privacy, vulnerabilities, authentication\n",
    "    BUSINESS = \"business\"  # Startups, companies, funding, acquisitions, industry news\n",
    "    CAREER = \"career\"  # Job seeking, workplace discussions, professional development\n",
    "    SCIENCE = \"science\"  # Research, space exploration, physics, biology, academic papers\n",
    "    TOOLS = \"tools\"  # Development tools, utilities, software applications\n",
    "    CULTURE = \"culture\"  # Tech industry trends, social impact, community issues\n",
    "    TECH_NEWS = \"tech_news\"  # General technology news and updates\n",
    "\n",
    "\n",
    "class HackerNewsClassification(BaseModel):\n",
    "    explanation: constr(min_length=40)\n",
    "    label: HackerNewsLabel"
   ]
  },
  {
   "cell_type": "markdown",
   "metadata": {},
   "source": [
    "## Prompt\n"
   ]
  },
  {
   "cell_type": "code",
   "execution_count": 5,
   "metadata": {},
   "outputs": [],
   "source": [
    "def format_text_as_prompt(title: str) -> str:\n",
    "    categories = \"\"\"\n",
    "    1. dev: Programming languages, coding practices, software development techniques  \n",
    "    2. web: Web development, browsers, frontend/backend frameworks, web standards  \n",
    "    3. ai_ml: Artificial intelligence, machine learning, data science  \n",
    "    4. security: Cybersecurity, privacy, vulnerabilities, authentication  \n",
    "    5. business: Startups, companies, funding, acquisitions, industry news  \n",
    "    6. career: Job seeking, workplace discussions, professional development  \n",
    "    7. science: Research, space exploration, physics, biology, academic papers  \n",
    "    8. tools: Development tools, utilities, software applications  \n",
    "    9. culture: Tech industry trends, social impact, community issues  \n",
    "    10. tech_news: General technology news and updates  \n",
    "    \"\"\"\n",
    "\n",
    "    return f\"\"\"Look at the title for the following HackerNews post. Assess what category this post belongs to.\n",
    "\n",
    "Title: \"{title}\"\n",
    "\n",
    "Your role is to classify this HackerNews post title into exactly one category. You should choose out of the following categories:\n",
    "\n",
    "Categories: {categories}\n",
    "\n",
    "Return your reasoning and the label you've chosen as a JSON object like this:\n",
    "```json\n",
    "{{\"explanation\": \"2-3 clear sentences explaining why this specific category is the best fit\",\n",
    "    \"label\": \"dev\" | \"web\" | \"ai_ml\" | \"security\" | \"business\" | \"career\" | \"science\" | \"tools\" | \"culture\" | \"tech_news\"\n",
    "}}\n",
    "```\n",
    "\"\"\""
   ]
  },
  {
   "cell_type": "markdown",
   "metadata": {},
   "source": [
    "## Starting the server with LM Studio\n"
   ]
  },
  {
   "cell_type": "markdown",
   "metadata": {},
   "source": [
    "https://huggingface.co/lmstudio-community/DeepSeek-R1-Distill-Qwen-7B-GGUF\n"
   ]
  },
  {
   "cell_type": "code",
   "execution_count": 6,
   "metadata": {},
   "outputs": [
    {
     "data": {
      "text/plain": [
       "SyncPage[Model](data=[Model(id='deepseek-r1-distill-qwen-7b@q8_0', created=None, object='model', owned_by='organization_owner'), Model(id='deepseek-r1-distill-qwen-7b@q6_k', created=None, object='model', owned_by='organization_owner'), Model(id='deepseek-r1-distill-llama-8b', created=None, object='model', owned_by='organization_owner'), Model(id='text-embedding-nomic-embed-text-v1.5', created=None, object='model', owned_by='organization_owner')], object='list')"
      ]
     },
     "execution_count": 6,
     "metadata": {},
     "output_type": "execute_result"
    }
   ],
   "source": [
    "from openai import OpenAI\n",
    "\n",
    "client = OpenAI(base_url=\"http://localhost:1234/v1\", api_key=\"lm-studio\")\n",
    "client.models.list()"
   ]
  },
  {
   "cell_type": "markdown",
   "metadata": {},
   "source": [
    "## Generating Labels\n"
   ]
  },
  {
   "cell_type": "code",
   "execution_count": 7,
   "metadata": {},
   "outputs": [],
   "source": [
    "messages = [\n",
    "    {\"role\": \"user\", \"content\": format_text_as_prompt(examples[0])},\n",
    "]\n",
    "\n",
    "\n",
    "response = client.beta.chat.completions.parse(\n",
    "    model=\"deepseek-r1-distill-qwen-7b\",\n",
    "    messages=messages,\n",
    "    temperature=0.7,\n",
    "    response_format=HackerNewsClassification,\n",
    ")"
   ]
  },
  {
   "cell_type": "code",
   "execution_count": 8,
   "metadata": {},
   "outputs": [
    {
     "data": {
      "text/plain": [
       "HackerNewsClassification(explanation=\"... explanation ... | label: ... }<think>Alright, so I've got this task here where I need to classify a HackerNews post based on its title. The title is \", label=<HackerNewsLabel.DEV: 'dev'>)"
      ]
     },
     "execution_count": 8,
     "metadata": {},
     "output_type": "execute_result"
    }
   ],
   "source": [
    "HackerNewsClassification.model_validate_json(response.choices[0].message.content)"
   ]
  },
  {
   "cell_type": "code",
   "execution_count": 9,
   "metadata": {},
   "outputs": [],
   "source": [
    "def predict_label(\n",
    "    title: str, model: str = \"deepseek-r1-distill-qwen-1.5b\", client=client\n",
    ") -> HackerNewsClassification | None:\n",
    "    try:\n",
    "        prompt = format_text_as_prompt(title)\n",
    "        messages = [\n",
    "            {\"role\": \"user\", \"content\": prompt},\n",
    "        ]\n",
    "        response = client.beta.chat.completions.parse(\n",
    "            model=model,\n",
    "            messages=messages,\n",
    "            temperature=0.3,\n",
    "            response_format=HackerNewsClassification,\n",
    "        )\n",
    "        return HackerNewsClassification.model_validate_json(\n",
    "            response.choices[0].message.content\n",
    "        )\n",
    "    except Exception as e:\n",
    "        print(f\"Error occurred: {e}\")\n",
    "        return None"
   ]
  },
  {
   "cell_type": "code",
   "execution_count": 10,
   "metadata": {},
   "outputs": [
    {
     "data": {
      "text/html": [
       "<pre style=\"white-space:pre;overflow-x:auto;line-height:normal;font-family:Menlo,'DejaVu Sans Mono',consolas,'Courier New',monospace\">Steve Jobs has passed away.\n",
       "</pre>\n"
      ],
      "text/plain": [
       "Steve Jobs has passed away.\n"
      ]
     },
     "metadata": {},
     "output_type": "display_data"
    },
    {
     "data": {
      "text/html": [
       "<pre style=\"white-space:pre;overflow-x:auto;line-height:normal;font-family:Menlo,'DejaVu Sans Mono',consolas,'Courier New',monospace\"><span style=\"color: #800080; text-decoration-color: #800080; font-weight: bold\">HackerNewsClassification</span><span style=\"font-weight: bold\">(</span>\n",
       "    <span style=\"color: #808000; text-decoration-color: #808000\">explanation</span>=<span style=\"color: #008000; text-decoration-color: #008000\">\"... explanation ...”, “label”:“...” }&lt;think&gt;Alright, I'm looking at the title \"</span><span style=\"color: #000000; text-decoration-color: #000000\">,</span>\n",
       "<span style=\"color: #000000; text-decoration-color: #000000\">    </span><span style=\"color: #808000; text-decoration-color: #808000\">label</span><span style=\"color: #000000; text-decoration-color: #000000\">=&lt;HackerNewsLabel.DEV: </span><span style=\"color: #008000; text-decoration-color: #008000\">'dev'</span><span style=\"font-weight: bold\">&gt;</span>\n",
       "<span style=\"font-weight: bold\">)</span>\n",
       "</pre>\n"
      ],
      "text/plain": [
       "\u001b[1;35mHackerNewsClassification\u001b[0m\u001b[1m(\u001b[0m\n",
       "    \u001b[33mexplanation\u001b[0m=\u001b[32m\"... explanation ...”, “label”:“...” \u001b[0m\u001b[32m}\u001b[0m\u001b[32m<\u001b[0m\u001b[32mthink\u001b[0m\u001b[32m>Alright, I'm looking at the title \"\u001b[0m\u001b[39m,\u001b[0m\n",
       "\u001b[39m    \u001b[0m\u001b[33mlabel\u001b[0m\u001b[39m=<HackerNewsLabel.DEV: \u001b[0m\u001b[32m'dev'\u001b[0m\u001b[1m>\u001b[0m\n",
       "\u001b[1m)\u001b[0m\n"
      ]
     },
     "metadata": {},
     "output_type": "display_data"
    },
    {
     "data": {
      "text/html": [
       "<pre style=\"white-space:pre;overflow-x:auto;line-height:normal;font-family:Menlo,'DejaVu Sans Mono',consolas,'Courier New',monospace\">---\n",
       "</pre>\n"
      ],
      "text/plain": [
       "---\n"
      ]
     },
     "metadata": {},
     "output_type": "display_data"
    },
    {
     "data": {
      "text/html": [
       "<pre style=\"white-space:pre;overflow-x:auto;line-height:normal;font-family:Menlo,'DejaVu Sans Mono',consolas,'Courier New',monospace\">Sellers printing counterfeit books and selling under Amazon's brand\n",
       "</pre>\n"
      ],
      "text/plain": [
       "Sellers printing counterfeit books and selling under Amazon's brand\n"
      ]
     },
     "metadata": {},
     "output_type": "display_data"
    },
    {
     "data": {
      "text/html": [
       "<pre style=\"white-space:pre;overflow-x:auto;line-height:normal;font-family:Menlo,'DejaVu Sans Mono',consolas,'Courier New',monospace\"><span style=\"color: #800080; text-decoration-color: #800080; font-weight: bold\">HackerNewsClassification</span><span style=\"font-weight: bold\">(</span>\n",
       "    <span style=\"color: #808000; text-decoration-color: #808000\">explanation</span>=<span style=\"color: #008000; text-decoration-color: #008000\">\"... explanation ...”, “label”: “...” }&lt;think&gt;Alright, let's see. I need to classify the title \"</span><span style=\"color: #000000; text-decoration-color: #000000\">,</span>\n",
       "<span style=\"color: #000000; text-decoration-color: #000000\">    </span><span style=\"color: #808000; text-decoration-color: #808000\">label</span><span style=\"color: #000000; text-decoration-color: #000000\">=&lt;HackerNewsLabel.SECURITY: </span><span style=\"color: #008000; text-decoration-color: #008000\">'security'</span><span style=\"font-weight: bold\">&gt;</span>\n",
       "<span style=\"font-weight: bold\">)</span>\n",
       "</pre>\n"
      ],
      "text/plain": [
       "\u001b[1;35mHackerNewsClassification\u001b[0m\u001b[1m(\u001b[0m\n",
       "    \u001b[33mexplanation\u001b[0m=\u001b[32m\"... explanation ...”, “label”: “...” \u001b[0m\u001b[32m}\u001b[0m\u001b[32m<\u001b[0m\u001b[32mthink\u001b[0m\u001b[32m>Alright, let's see. I need to classify the title \"\u001b[0m\u001b[39m,\u001b[0m\n",
       "\u001b[39m    \u001b[0m\u001b[33mlabel\u001b[0m\u001b[39m=<HackerNewsLabel.SECURITY: \u001b[0m\u001b[32m'security'\u001b[0m\u001b[1m>\u001b[0m\n",
       "\u001b[1m)\u001b[0m\n"
      ]
     },
     "metadata": {},
     "output_type": "display_data"
    },
    {
     "data": {
      "text/html": [
       "<pre style=\"white-space:pre;overflow-x:auto;line-height:normal;font-family:Menlo,'DejaVu Sans Mono',consolas,'Courier New',monospace\">---\n",
       "</pre>\n"
      ],
      "text/plain": [
       "---\n"
      ]
     },
     "metadata": {},
     "output_type": "display_data"
    },
    {
     "data": {
      "text/html": [
       "<pre style=\"white-space:pre;overflow-x:auto;line-height:normal;font-family:Menlo,'DejaVu Sans Mono',consolas,'Courier New',monospace\">What does the ??!??! operator do in C?\n",
       "</pre>\n"
      ],
      "text/plain": [
       "What does the ??!??! operator do in C?\n"
      ]
     },
     "metadata": {},
     "output_type": "display_data"
    },
    {
     "data": {
      "text/html": [
       "<pre style=\"white-space:pre;overflow-x:auto;line-height:normal;font-family:Menlo,'DejaVu Sans Mono',consolas,'Courier New',monospace\"><span style=\"color: #800080; text-decoration-color: #800080; font-weight: bold\">HackerNewsClassification</span><span style=\"font-weight: bold\">(</span>\n",
       "    <span style=\"color: #808000; text-decoration-color: #808000\">explanation</span>=<span style=\"color: #008000; text-decoration-color: #008000\">\"The title asks about a specific operator in C programming language, which falls under software </span>\n",
       "<span style=\"color: #008000; text-decoration-color: #008000\">development techniques related to programming languages. Therefore, it belongs to the 'dev' category.\"</span>,\n",
       "    <span style=\"color: #808000; text-decoration-color: #808000\">label</span>=<span style=\"font-weight: bold\">&lt;</span><span style=\"color: #ff00ff; text-decoration-color: #ff00ff; font-weight: bold\">HackerNewsLabel.DEV:</span><span style=\"color: #000000; text-decoration-color: #000000\"> </span><span style=\"color: #008000; text-decoration-color: #008000\">'dev'</span><span style=\"font-weight: bold\">&gt;</span>\n",
       "<span style=\"font-weight: bold\">)</span>\n",
       "</pre>\n"
      ],
      "text/plain": [
       "\u001b[1;35mHackerNewsClassification\u001b[0m\u001b[1m(\u001b[0m\n",
       "    \u001b[33mexplanation\u001b[0m=\u001b[32m\"The\u001b[0m\u001b[32m title asks about a specific operator in C programming language, which falls under software \u001b[0m\n",
       "\u001b[32mdevelopment techniques related to programming languages. Therefore, it belongs to the 'dev' category.\"\u001b[0m,\n",
       "    \u001b[33mlabel\u001b[0m=\u001b[1m<\u001b[0m\u001b[1;95mHackerNewsLabel.DEV:\u001b[0m\u001b[39m \u001b[0m\u001b[32m'dev'\u001b[0m\u001b[1m>\u001b[0m\n",
       "\u001b[1m)\u001b[0m\n"
      ]
     },
     "metadata": {},
     "output_type": "display_data"
    },
    {
     "data": {
      "text/html": [
       "<pre style=\"white-space:pre;overflow-x:auto;line-height:normal;font-family:Menlo,'DejaVu Sans Mono',consolas,'Courier New',monospace\">---\n",
       "</pre>\n"
      ],
      "text/plain": [
       "---\n"
      ]
     },
     "metadata": {},
     "output_type": "display_data"
    },
    {
     "data": {
      "text/html": [
       "<pre style=\"white-space:pre;overflow-x:auto;line-height:normal;font-family:Menlo,'DejaVu Sans Mono',consolas,'Courier New',monospace\">React.js Introduction for People Who Know Just Enough JQuery\n",
       "</pre>\n"
      ],
      "text/plain": [
       "React.js Introduction for People Who Know Just Enough JQuery\n"
      ]
     },
     "metadata": {},
     "output_type": "display_data"
    },
    {
     "data": {
      "text/html": [
       "<pre style=\"white-space:pre;overflow-x:auto;line-height:normal;font-family:Menlo,'DejaVu Sans Mono',consolas,'Courier New',monospace\"><span style=\"color: #800080; text-decoration-color: #800080; font-weight: bold\">HackerNewsClassification</span><span style=\"font-weight: bold\">(</span>\n",
       "    <span style=\"color: #808000; text-decoration-color: #808000\">explanation</span>=<span style=\"color: #008000; text-decoration-color: #008000\">\"The title 'React.js Introduction for People Who Know Just Enough JQuery' suggests that it is about</span>\n",
       "<span style=\"color: #008000; text-decoration-color: #008000\">React.js, a popular JavaScript library used in web development. The mention of 'JQuery' indicates that the post </span>\n",
       "<span style=\"color: #008000; text-decoration-color: #008000\">might be comparing or contrasting React.js with jQuery, which are both frameworks used in building user interfaces.</span>\n",
       "<span style=\"color: #008000; text-decoration-color: #008000\">Since React.js is primarily related to front-end web development and part of the JavaScript ecosystem, this title </span>\n",
       "<span style=\"color: #008000; text-decoration-color: #008000\">falls under the 'web' category.\"</span>,\n",
       "    <span style=\"color: #808000; text-decoration-color: #808000\">label</span>=<span style=\"font-weight: bold\">&lt;</span><span style=\"color: #ff00ff; text-decoration-color: #ff00ff; font-weight: bold\">HackerNewsLabel.WEB:</span><span style=\"color: #000000; text-decoration-color: #000000\"> </span><span style=\"color: #008000; text-decoration-color: #008000\">'web'</span><span style=\"font-weight: bold\">&gt;</span>\n",
       "<span style=\"font-weight: bold\">)</span>\n",
       "</pre>\n"
      ],
      "text/plain": [
       "\u001b[1;35mHackerNewsClassification\u001b[0m\u001b[1m(\u001b[0m\n",
       "    \u001b[33mexplanation\u001b[0m=\u001b[32m\"The\u001b[0m\u001b[32m title 'React.js Introduction for People Who Know Just Enough JQuery' suggests that it is about\u001b[0m\n",
       "\u001b[32mReact.js, a popular JavaScript library used in web development. The mention of 'JQuery' indicates that the post \u001b[0m\n",
       "\u001b[32mmight be comparing or contrasting React.js with jQuery, which are both frameworks used in building user interfaces.\u001b[0m\n",
       "\u001b[32mSince React.js is primarily related to front-end web development and part of the JavaScript ecosystem, this title \u001b[0m\n",
       "\u001b[32mfalls under the 'web' category.\"\u001b[0m,\n",
       "    \u001b[33mlabel\u001b[0m=\u001b[1m<\u001b[0m\u001b[1;95mHackerNewsLabel.WEB:\u001b[0m\u001b[39m \u001b[0m\u001b[32m'web'\u001b[0m\u001b[1m>\u001b[0m\n",
       "\u001b[1m)\u001b[0m\n"
      ]
     },
     "metadata": {},
     "output_type": "display_data"
    },
    {
     "data": {
      "text/html": [
       "<pre style=\"white-space:pre;overflow-x:auto;line-height:normal;font-family:Menlo,'DejaVu Sans Mono',consolas,'Courier New',monospace\">---\n",
       "</pre>\n"
      ],
      "text/plain": [
       "---\n"
      ]
     },
     "metadata": {},
     "output_type": "display_data"
    },
    {
     "data": {
      "text/html": [
       "<pre style=\"white-space:pre;overflow-x:auto;line-height:normal;font-family:Menlo,'DejaVu Sans Mono',consolas,'Courier New',monospace\">Email a Dumpster Fire\n",
       "</pre>\n"
      ],
      "text/plain": [
       "Email a Dumpster Fire\n"
      ]
     },
     "metadata": {},
     "output_type": "display_data"
    },
    {
     "data": {
      "text/html": [
       "<pre style=\"white-space:pre;overflow-x:auto;line-height:normal;font-family:Menlo,'DejaVu Sans Mono',consolas,'Courier New',monospace\"><span style=\"color: #800080; text-decoration-color: #800080; font-weight: bold\">HackerNewsClassification</span><span style=\"font-weight: bold\">(</span>\n",
       "    <span style=\"color: #808000; text-decoration-color: #808000\">explanation</span>=<span style=\"color: #008000; text-decoration-color: #008000\">\"... explanation ...”, “label”: ... }&lt;think&gt;Alright, so I'm trying to figure out which category the</span>\n",
       "<span style=\"color: #008000; text-decoration-color: #008000\">Hacker News post with the title \"</span><span style=\"color: #000000; text-decoration-color: #000000\">,</span>\n",
       "<span style=\"color: #000000; text-decoration-color: #000000\">    </span><span style=\"color: #808000; text-decoration-color: #808000\">label</span><span style=\"color: #000000; text-decoration-color: #000000\">=&lt;HackerNewsLabel.SECURITY: </span><span style=\"color: #008000; text-decoration-color: #008000\">'security'</span><span style=\"font-weight: bold\">&gt;</span>\n",
       "<span style=\"font-weight: bold\">)</span>\n",
       "</pre>\n"
      ],
      "text/plain": [
       "\u001b[1;35mHackerNewsClassification\u001b[0m\u001b[1m(\u001b[0m\n",
       "    \u001b[33mexplanation\u001b[0m=\u001b[32m\"... explanation ...”, “label”: ... \u001b[0m\u001b[32m}\u001b[0m\u001b[32m<\u001b[0m\u001b[32mthink\u001b[0m\u001b[32m>Alright, so I'm trying to figure out which category the\u001b[0m\n",
       "\u001b[32mHacker News post with the title \"\u001b[0m\u001b[39m,\u001b[0m\n",
       "\u001b[39m    \u001b[0m\u001b[33mlabel\u001b[0m\u001b[39m=<HackerNewsLabel.SECURITY: \u001b[0m\u001b[32m'security'\u001b[0m\u001b[1m>\u001b[0m\n",
       "\u001b[1m)\u001b[0m\n"
      ]
     },
     "metadata": {},
     "output_type": "display_data"
    },
    {
     "data": {
      "text/html": [
       "<pre style=\"white-space:pre;overflow-x:auto;line-height:normal;font-family:Menlo,'DejaVu Sans Mono',consolas,'Courier New',monospace\">---\n",
       "</pre>\n"
      ],
      "text/plain": [
       "---\n"
      ]
     },
     "metadata": {},
     "output_type": "display_data"
    },
    {
     "data": {
      "text/html": [
       "<pre style=\"white-space:pre;overflow-x:auto;line-height:normal;font-family:Menlo,'DejaVu Sans Mono',consolas,'Courier New',monospace\">A Billionaire Mathematician’s Life of Ferocious Curiosity\n",
       "</pre>\n"
      ],
      "text/plain": [
       "A Billionaire Mathematician’s Life of Ferocious Curiosity\n"
      ]
     },
     "metadata": {},
     "output_type": "display_data"
    },
    {
     "data": {
      "text/html": [
       "<pre style=\"white-space:pre;overflow-x:auto;line-height:normal;font-family:Menlo,'DejaVu Sans Mono',consolas,'Courier New',monospace\"><span style=\"color: #800080; text-decoration-color: #800080; font-weight: bold\">HackerNewsClassification</span><span style=\"font-weight: bold\">(</span>\n",
       "    <span style=\"color: #808000; text-decoration-color: #808000\">explanation</span>=<span style=\"color: #008000; text-decoration-color: #008000\">'..., ..., ... } , label: ... }&lt;think&gt;Alright, let me try to figure out how to classify this Hacker</span>\n",
       "<span style=\"color: #008000; text-decoration-color: #008000\">News post title. The title is '</span><span style=\"color: #000000; text-decoration-color: #000000\">,</span>\n",
       "<span style=\"color: #000000; text-decoration-color: #000000\">    </span><span style=\"color: #808000; text-decoration-color: #808000\">label</span><span style=\"color: #000000; text-decoration-color: #000000\">=&lt;HackerNewsLabel.DEV: </span><span style=\"color: #008000; text-decoration-color: #008000\">'dev'</span><span style=\"font-weight: bold\">&gt;</span>\n",
       "<span style=\"font-weight: bold\">)</span>\n",
       "</pre>\n"
      ],
      "text/plain": [
       "\u001b[1;35mHackerNewsClassification\u001b[0m\u001b[1m(\u001b[0m\n",
       "    \u001b[33mexplanation\u001b[0m=\u001b[32m'..., ..., ... \u001b[0m\u001b[32m}\u001b[0m\u001b[32m , label: ... \u001b[0m\u001b[32m}\u001b[0m\u001b[32m<\u001b[0m\u001b[32mthink\u001b[0m\u001b[32m>Alright, let me try to figure out how to classify this Hacker\u001b[0m\n",
       "\u001b[32mNews post title. The title is '\u001b[0m\u001b[39m,\u001b[0m\n",
       "\u001b[39m    \u001b[0m\u001b[33mlabel\u001b[0m\u001b[39m=<HackerNewsLabel.DEV: \u001b[0m\u001b[32m'dev'\u001b[0m\u001b[1m>\u001b[0m\n",
       "\u001b[1m)\u001b[0m\n"
      ]
     },
     "metadata": {},
     "output_type": "display_data"
    },
    {
     "data": {
      "text/html": [
       "<pre style=\"white-space:pre;overflow-x:auto;line-height:normal;font-family:Menlo,'DejaVu Sans Mono',consolas,'Courier New',monospace\">---\n",
       "</pre>\n"
      ],
      "text/plain": [
       "---\n"
      ]
     },
     "metadata": {},
     "output_type": "display_data"
    },
    {
     "data": {
      "text/html": [
       "<pre style=\"white-space:pre;overflow-x:auto;line-height:normal;font-family:Menlo,'DejaVu Sans Mono',consolas,'Courier New',monospace\">NSA shares raw intelligence including Americans' data with Israel\n",
       "</pre>\n"
      ],
      "text/plain": [
       "NSA shares raw intelligence including Americans' data with Israel\n"
      ]
     },
     "metadata": {},
     "output_type": "display_data"
    },
    {
     "data": {
      "text/html": [
       "<pre style=\"white-space:pre;overflow-x:auto;line-height:normal;font-family:Menlo,'DejaVu Sans Mono',consolas,'Courier New',monospace\"><span style=\"color: #800080; text-decoration-color: #800080; font-weight: bold\">HackerNewsClassification</span><span style=\"font-weight: bold\">(</span>\n",
       "    <span style=\"color: #808000; text-decoration-color: #808000\">explanation</span>=<span style=\"color: #008000; text-decoration-color: #008000\">'..., ... , ... , ... , ... , ... , ... , ... , ... , ... '</span>,\n",
       "    <span style=\"color: #808000; text-decoration-color: #808000\">label</span>=<span style=\"font-weight: bold\">&lt;</span><span style=\"color: #ff00ff; text-decoration-color: #ff00ff; font-weight: bold\">HackerNewsLabel.DEV:</span><span style=\"color: #000000; text-decoration-color: #000000\"> </span><span style=\"color: #008000; text-decoration-color: #008000\">'dev'</span><span style=\"font-weight: bold\">&gt;</span>\n",
       "<span style=\"font-weight: bold\">)</span>\n",
       "</pre>\n"
      ],
      "text/plain": [
       "\u001b[1;35mHackerNewsClassification\u001b[0m\u001b[1m(\u001b[0m\n",
       "    \u001b[33mexplanation\u001b[0m=\u001b[32m'..., ... , ... , ... , ... , ... , ... , ... , ... , ... '\u001b[0m,\n",
       "    \u001b[33mlabel\u001b[0m=\u001b[1m<\u001b[0m\u001b[1;95mHackerNewsLabel.DEV:\u001b[0m\u001b[39m \u001b[0m\u001b[32m'dev'\u001b[0m\u001b[1m>\u001b[0m\n",
       "\u001b[1m)\u001b[0m\n"
      ]
     },
     "metadata": {},
     "output_type": "display_data"
    },
    {
     "data": {
      "text/html": [
       "<pre style=\"white-space:pre;overflow-x:auto;line-height:normal;font-family:Menlo,'DejaVu Sans Mono',consolas,'Courier New',monospace\">---\n",
       "</pre>\n"
      ],
      "text/plain": [
       "---\n"
      ]
     },
     "metadata": {},
     "output_type": "display_data"
    },
    {
     "data": {
      "text/html": [
       "<pre style=\"white-space:pre;overflow-x:auto;line-height:normal;font-family:Menlo,'DejaVu Sans Mono',consolas,'Courier New',monospace\">Washington Post Is First Paper to Call for Prosecution of Its Own Source\n",
       "</pre>\n"
      ],
      "text/plain": [
       "Washington Post Is First Paper to Call for Prosecution of Its Own Source\n"
      ]
     },
     "metadata": {},
     "output_type": "display_data"
    },
    {
     "data": {
      "text/html": [
       "<pre style=\"white-space:pre;overflow-x:auto;line-height:normal;font-family:Menlo,'DejaVu Sans Mono',consolas,'Courier New',monospace\"><span style=\"color: #800080; text-decoration-color: #800080; font-weight: bold\">HackerNewsClassification</span><span style=\"font-weight: bold\">(</span>\n",
       "    <span style=\"color: #808000; text-decoration-color: #808000\">explanation</span>=<span style=\"color: #008000; text-decoration-color: #008000\">\"... explanation ... label: ... }&lt;think&gt;Alright, I'm looking at the title of this Hacker News post:</span>\n",
       "<span style=\"color: #008000; text-decoration-color: #008000\">\"</span><span style=\"color: #000000; text-decoration-color: #000000\">,</span>\n",
       "<span style=\"color: #000000; text-decoration-color: #000000\">    </span><span style=\"color: #808000; text-decoration-color: #808000\">label</span><span style=\"color: #000000; text-decoration-color: #000000\">=&lt;HackerNewsLabel.SECURITY: </span><span style=\"color: #008000; text-decoration-color: #008000\">'security'</span><span style=\"font-weight: bold\">&gt;</span>\n",
       "<span style=\"font-weight: bold\">)</span>\n",
       "</pre>\n"
      ],
      "text/plain": [
       "\u001b[1;35mHackerNewsClassification\u001b[0m\u001b[1m(\u001b[0m\n",
       "    \u001b[33mexplanation\u001b[0m=\u001b[32m\"... explanation ... label: ... \u001b[0m\u001b[32m}\u001b[0m\u001b[32m<\u001b[0m\u001b[32mthink\u001b[0m\u001b[32m>Alright, I'm looking at the title of this Hacker News post:\u001b[0m\n",
       "\u001b[32m\"\u001b[0m\u001b[39m,\u001b[0m\n",
       "\u001b[39m    \u001b[0m\u001b[33mlabel\u001b[0m\u001b[39m=<HackerNewsLabel.SECURITY: \u001b[0m\u001b[32m'security'\u001b[0m\u001b[1m>\u001b[0m\n",
       "\u001b[1m)\u001b[0m\n"
      ]
     },
     "metadata": {},
     "output_type": "display_data"
    },
    {
     "data": {
      "text/html": [
       "<pre style=\"white-space:pre;overflow-x:auto;line-height:normal;font-family:Menlo,'DejaVu Sans Mono',consolas,'Courier New',monospace\">---\n",
       "</pre>\n"
      ],
      "text/plain": [
       "---\n"
      ]
     },
     "metadata": {},
     "output_type": "display_data"
    },
    {
     "data": {
      "text/html": [
       "<pre style=\"white-space:pre;overflow-x:auto;line-height:normal;font-family:Menlo,'DejaVu Sans Mono',consolas,'Courier New',monospace\">Uber Fires Anthony Levandowski\n",
       "</pre>\n"
      ],
      "text/plain": [
       "Uber Fires Anthony Levandowski\n"
      ]
     },
     "metadata": {},
     "output_type": "display_data"
    },
    {
     "data": {
      "text/html": [
       "<pre style=\"white-space:pre;overflow-x:auto;line-height:normal;font-family:Menlo,'DejaVu Sans Mono',consolas,'Courier New',monospace\"><span style=\"color: #800080; text-decoration-color: #800080; font-weight: bold\">HackerNewsClassification</span><span style=\"font-weight: bold\">(</span>\n",
       "    <span style=\"color: #808000; text-decoration-color: #808000\">explanation</span>=<span style=\"color: #008000; text-decoration-color: #008000\">'..., ... , ... , ... , ... , ... , ... , ... , ... , ... '</span>,\n",
       "    <span style=\"color: #808000; text-decoration-color: #808000\">label</span>=<span style=\"font-weight: bold\">&lt;</span><span style=\"color: #ff00ff; text-decoration-color: #ff00ff; font-weight: bold\">HackerNewsLabel.DEV:</span><span style=\"color: #000000; text-decoration-color: #000000\"> </span><span style=\"color: #008000; text-decoration-color: #008000\">'dev'</span><span style=\"font-weight: bold\">&gt;</span>\n",
       "<span style=\"font-weight: bold\">)</span>\n",
       "</pre>\n"
      ],
      "text/plain": [
       "\u001b[1;35mHackerNewsClassification\u001b[0m\u001b[1m(\u001b[0m\n",
       "    \u001b[33mexplanation\u001b[0m=\u001b[32m'..., ... , ... , ... , ... , ... , ... , ... , ... , ... '\u001b[0m,\n",
       "    \u001b[33mlabel\u001b[0m=\u001b[1m<\u001b[0m\u001b[1;95mHackerNewsLabel.DEV:\u001b[0m\u001b[39m \u001b[0m\u001b[32m'dev'\u001b[0m\u001b[1m>\u001b[0m\n",
       "\u001b[1m)\u001b[0m\n"
      ]
     },
     "metadata": {},
     "output_type": "display_data"
    },
    {
     "data": {
      "text/html": [
       "<pre style=\"white-space:pre;overflow-x:auto;line-height:normal;font-family:Menlo,'DejaVu Sans Mono',consolas,'Courier New',monospace\">---\n",
       "</pre>\n"
      ],
      "text/plain": [
       "---\n"
      ]
     },
     "metadata": {},
     "output_type": "display_data"
    },
    {
     "data": {
      "text/html": [
       "<pre style=\"white-space:pre;overflow-x:auto;line-height:normal;font-family:Menlo,'DejaVu Sans Mono',consolas,'Courier New',monospace\">AlphaGo Zero: Learning from scratch\n",
       "</pre>\n"
      ],
      "text/plain": [
       "AlphaGo Zero: Learning from scratch\n"
      ]
     },
     "metadata": {},
     "output_type": "display_data"
    },
    {
     "data": {
      "text/html": [
       "<pre style=\"white-space:pre;overflow-x:auto;line-height:normal;font-family:Menlo,'DejaVu Sans Mono',consolas,'Courier New',monospace\"><span style=\"color: #800080; text-decoration-color: #800080; font-weight: bold\">HackerNewsClassification</span><span style=\"font-weight: bold\">(</span>\n",
       "    <span style=\"color: #808000; text-decoration-color: #808000\">explanation</span>=<span style=\"color: #008000; text-decoration-color: #008000\">\"The title 'AlphaGo Zero: Learning from scratch' is focused on a specific AI development project. </span>\n",
       "<span style=\"color: #008000; text-decoration-color: #008000\">AlphaGo Zero refers to an AI system created by Google that plays the board game Go at a superhuman level. The </span>\n",
       "<span style=\"color: #008000; text-decoration-color: #008000\">phrase 'Learning from scratch' suggests that this post discusses the process of teaching the AI how to play without</span>\n",
       "<span style=\"color: #008000; text-decoration-color: #008000\">prior knowledge, which involves machine learning and artificial intelligence techniques. Therefore, the category </span>\n",
       "<span style=\"color: #008000; text-decoration-color: #008000\">should be ai_ml since it pertains directly to advancements in AI and machine learning algorithms.\"</span>,\n",
       "    <span style=\"color: #808000; text-decoration-color: #808000\">label</span>=<span style=\"font-weight: bold\">&lt;</span><span style=\"color: #ff00ff; text-decoration-color: #ff00ff; font-weight: bold\">HackerNewsLabel.AI_ML:</span><span style=\"color: #000000; text-decoration-color: #000000\"> </span><span style=\"color: #008000; text-decoration-color: #008000\">'ai_ml'</span><span style=\"font-weight: bold\">&gt;</span>\n",
       "<span style=\"font-weight: bold\">)</span>\n",
       "</pre>\n"
      ],
      "text/plain": [
       "\u001b[1;35mHackerNewsClassification\u001b[0m\u001b[1m(\u001b[0m\n",
       "    \u001b[33mexplanation\u001b[0m=\u001b[32m\"The\u001b[0m\u001b[32m title 'AlphaGo Zero: Learning from scratch' is focused on a specific AI development project. \u001b[0m\n",
       "\u001b[32mAlphaGo Zero refers to an AI system created by Google that plays the board game Go at a superhuman level. The \u001b[0m\n",
       "\u001b[32mphrase 'Learning from scratch' suggests that this post discusses the process of teaching the AI how to play without\u001b[0m\n",
       "\u001b[32mprior knowledge, which involves machine learning and artificial intelligence techniques. Therefore, the category \u001b[0m\n",
       "\u001b[32mshould be ai_ml since it pertains directly to advancements in AI and machine learning algorithms.\"\u001b[0m,\n",
       "    \u001b[33mlabel\u001b[0m=\u001b[1m<\u001b[0m\u001b[1;95mHackerNewsLabel.AI_ML:\u001b[0m\u001b[39m \u001b[0m\u001b[32m'ai_ml'\u001b[0m\u001b[1m>\u001b[0m\n",
       "\u001b[1m)\u001b[0m\n"
      ]
     },
     "metadata": {},
     "output_type": "display_data"
    },
    {
     "data": {
      "text/html": [
       "<pre style=\"white-space:pre;overflow-x:auto;line-height:normal;font-family:Menlo,'DejaVu Sans Mono',consolas,'Courier New',monospace\">---\n",
       "</pre>\n"
      ],
      "text/plain": [
       "---\n"
      ]
     },
     "metadata": {},
     "output_type": "display_data"
    }
   ],
   "source": [
    "from rich import print as rich_print\n",
    "\n",
    "structured_results = []\n",
    "for example in examples:\n",
    "    prediction = predict_label(example)\n",
    "    structured_results.append(prediction)\n",
    "    rich_print(example)\n",
    "    rich_print(prediction)\n",
    "    rich_print(\"---\")"
   ]
  },
  {
   "cell_type": "markdown",
   "metadata": {},
   "source": [
    "## Room to Think\n"
   ]
  },
  {
   "cell_type": "code",
   "execution_count": 11,
   "metadata": {},
   "outputs": [],
   "source": [
    "def predict_label_without_structured(\n",
    "    title: str, model: str = \"deepseek-r1-distill-qwen-1.5b\", client=client\n",
    ") -> str:\n",
    "    try:\n",
    "        prompt = format_text_as_prompt(title)\n",
    "        messages = [\n",
    "            {\"role\": \"user\", \"content\": prompt},\n",
    "        ]\n",
    "        response = client.beta.chat.completions.parse(\n",
    "            model=model,\n",
    "            messages=messages,\n",
    "            temperature=0.7,\n",
    "        )\n",
    "        return response.choices[0].message.content\n",
    "\n",
    "    except Exception as e:\n",
    "        print(f\"Error occurred: {e}\")\n",
    "        return None"
   ]
  },
  {
   "cell_type": "code",
   "execution_count": 12,
   "metadata": {},
   "outputs": [
    {
     "data": {
      "text/html": [
       "<pre style=\"white-space:pre;overflow-x:auto;line-height:normal;font-family:Menlo,'DejaVu Sans Mono',consolas,'Courier New',monospace\">Steve Jobs has passed away.\n",
       "</pre>\n"
      ],
      "text/plain": [
       "Steve Jobs has passed away.\n"
      ]
     },
     "metadata": {},
     "output_type": "display_data"
    },
    {
     "data": {
      "text/html": [
       "<pre style=\"white-space:pre;overflow-x:auto;line-height:normal;font-family:Menlo,'DejaVu Sans Mono',consolas,'Courier New',monospace\"><span style=\"font-weight: bold\">&lt;</span><span style=\"color: #ff00ff; text-decoration-color: #ff00ff; font-weight: bold\">think</span><span style=\"color: #000000; text-decoration-color: #000000\">&gt;</span>\n",
       "<span style=\"color: #000000; text-decoration-color: #000000\">Alright, I need to figure out which category this Hacker News post belongs to based on the title: </span><span style=\"color: #008000; text-decoration-color: #008000\">\"Steve Jobs has </span>\n",
       "<span style=\"color: #008000; text-decoration-color: #008000\">passed away.\"</span><span style=\"color: #000000; text-decoration-color: #000000\"> The available categories are dev, web, ai_ml, security, business, career, science, tools, culture, </span>\n",
       "<span style=\"color: #000000; text-decoration-color: #000000\">and tech_news.</span>\n",
       "\n",
       "<span style=\"color: #000000; text-decoration-color: #000000\">First, I'll read through each category to see how they fit. </span>\n",
       "\n",
       "<span style=\"color: #000000; text-decoration-color: #000000\">- **dev**: This is for programming topics like languages or practices.</span>\n",
       "<span style=\"color: #000000; text-decoration-color: #000000\">- **web**: Related to web development or frameworks.</span>\n",
       "<span style=\"color: #000000; text-decoration-color: #000000\">- **ai_ml**: Artificial intelligence and machine learning.</span>\n",
       "<span style=\"color: #000000; text-decoration-color: #000000\">- **security**: Cybersecurity stuff.</span>\n",
       "<span style=\"color: #000000; text-decoration-color: #000000\">- **business**: Startups, funding, etc.</span>\n",
       "<span style=\"color: #000000; text-decoration-color: #000000\">- **career**: Job-related discussions.</span>\n",
       "<span style=\"color: #000000; text-decoration-color: #000000\">- **science**: Research areas like physics or biology.</span>\n",
       "<span style=\"color: #000000; text-decoration-color: #000000\">- **tools**: Development tools or software applications.</span>\n",
       "<span style=\"color: #000000; text-decoration-color: #000000\">- **culture**: Tech trends or community issues.</span>\n",
       "<span style=\"color: #000000; text-decoration-color: #000000\">- **tech_news**: General tech updates.</span>\n",
       "\n",
       "<span style=\"color: #000000; text-decoration-color: #000000\">The title is about Steve Jobs passing away. Steve Jobs was a significant figure in the tech industry, particularly </span>\n",
       "<span style=\"color: #000000; text-decoration-color: #000000\">known for Apple. However, the title itself doesn't discuss any technical topic, AI, security details, business </span>\n",
       "<span style=\"color: #000000; text-decoration-color: #000000\">deals, career moves, scientific research, tools, culture trends, or anything directly related to programming or web</span>\n",
       "<span style=\"color: #000000; text-decoration-color: #000000\">development.</span>\n",
       "\n",
       "<span style=\"color: #000000; text-decoration-color: #000000\">It's more of an obituary or announcement about a notable person in the tech field. Since it's not about any </span>\n",
       "<span style=\"color: #000000; text-decoration-color: #000000\">specific category like programming or technology news updates per se, but rather announcing someone's death within </span>\n",
       "<span style=\"color: #000000; text-decoration-color: #000000\">the tech context, I'm leaning towards **tech_news** as the most appropriate category because it covers general tech</span>\n",
       "<span style=\"color: #000000; text-decoration-color: #000000\">updates and industry news.</span>\n",
       "\n",
       "<span style=\"color: #000000; text-decoration-color: #000000\">Other categories don't fit because they're too specific to technical topics. So, </span><span style=\"color: #008000; text-decoration-color: #008000\">\"Steve Jobs has passed away\"</span><span style=\"color: #000000; text-decoration-color: #000000\"> is a </span>\n",
       "<span style=\"color: #000000; text-decoration-color: #000000\">notable event in the tech world but doesn't fall into any of the other specialized categories listed.</span>\n",
       "<span style=\"color: #000000; text-decoration-color: #000000\">&lt;</span><span style=\"color: #800080; text-decoration-color: #800080\">/</span><span style=\"color: #ff00ff; text-decoration-color: #ff00ff\">think</span><span style=\"font-weight: bold\">&gt;</span>\n",
       "\n",
       "<span style=\"font-weight: bold\">{</span><span style=\"color: #008000; text-decoration-color: #008000\">\"explanation\"</span>: <span style=\"color: #008000; text-decoration-color: #008000\">\"The title mentions Steve Jobs passing away, which is an announcement about a notable figure in the</span>\n",
       "<span style=\"color: #008000; text-decoration-color: #008000\">tech industry. While it's not directly technical or news about updates, it falls under general tech news as it </span>\n",
       "<span style=\"color: #008000; text-decoration-color: #008000\">pertains to a significant event within that field.\"</span>, <span style=\"color: #008000; text-decoration-color: #008000\">\"label\"</span>: <span style=\"color: #008000; text-decoration-color: #008000\">\"tech_news\"</span><span style=\"font-weight: bold\">}</span>\n",
       "</pre>\n"
      ],
      "text/plain": [
       "\u001b[1m<\u001b[0m\u001b[1;95mthink\u001b[0m\u001b[39m>\u001b[0m\n",
       "\u001b[39mAlright, I need to figure out which category this Hacker News post belongs to based on the title: \u001b[0m\u001b[32m\"Steve Jobs has \u001b[0m\n",
       "\u001b[32mpassed away.\"\u001b[0m\u001b[39m The available categories are dev, web, ai_ml, security, business, career, science, tools, culture, \u001b[0m\n",
       "\u001b[39mand tech_news.\u001b[0m\n",
       "\n",
       "\u001b[39mFirst, I'll read through each category to see how they fit. \u001b[0m\n",
       "\n",
       "\u001b[39m- **dev**: This is for programming topics like languages or practices.\u001b[0m\n",
       "\u001b[39m- **web**: Related to web development or frameworks.\u001b[0m\n",
       "\u001b[39m- **ai_ml**: Artificial intelligence and machine learning.\u001b[0m\n",
       "\u001b[39m- **security**: Cybersecurity stuff.\u001b[0m\n",
       "\u001b[39m- **business**: Startups, funding, etc.\u001b[0m\n",
       "\u001b[39m- **career**: Job-related discussions.\u001b[0m\n",
       "\u001b[39m- **science**: Research areas like physics or biology.\u001b[0m\n",
       "\u001b[39m- **tools**: Development tools or software applications.\u001b[0m\n",
       "\u001b[39m- **culture**: Tech trends or community issues.\u001b[0m\n",
       "\u001b[39m- **tech_news**: General tech updates.\u001b[0m\n",
       "\n",
       "\u001b[39mThe title is about Steve Jobs passing away. Steve Jobs was a significant figure in the tech industry, particularly \u001b[0m\n",
       "\u001b[39mknown for Apple. However, the title itself doesn't discuss any technical topic, AI, security details, business \u001b[0m\n",
       "\u001b[39mdeals, career moves, scientific research, tools, culture trends, or anything directly related to programming or web\u001b[0m\n",
       "\u001b[39mdevelopment.\u001b[0m\n",
       "\n",
       "\u001b[39mIt's more of an obituary or announcement about a notable person in the tech field. Since it's not about any \u001b[0m\n",
       "\u001b[39mspecific category like programming or technology news updates per se, but rather announcing someone's death within \u001b[0m\n",
       "\u001b[39mthe tech context, I'm leaning towards **tech_news** as the most appropriate category because it covers general tech\u001b[0m\n",
       "\u001b[39mupdates and industry news.\u001b[0m\n",
       "\n",
       "\u001b[39mOther categories don't fit because they're too specific to technical topics. So, \u001b[0m\u001b[32m\"Steve Jobs has passed away\"\u001b[0m\u001b[39m is a \u001b[0m\n",
       "\u001b[39mnotable event in the tech world but doesn't fall into any of the other specialized categories listed.\u001b[0m\n",
       "\u001b[39m<\u001b[0m\u001b[35m/\u001b[0m\u001b[95mthink\u001b[0m\u001b[1m>\u001b[0m\n",
       "\n",
       "\u001b[1m{\u001b[0m\u001b[32m\"explanation\"\u001b[0m: \u001b[32m\"The title mentions Steve Jobs passing away, which is an announcement about a notable figure in the\u001b[0m\n",
       "\u001b[32mtech industry. While it's not directly technical or news about updates, it falls under general tech news as it \u001b[0m\n",
       "\u001b[32mpertains to a significant event within that field.\"\u001b[0m, \u001b[32m\"label\"\u001b[0m: \u001b[32m\"tech_news\"\u001b[0m\u001b[1m}\u001b[0m\n"
      ]
     },
     "metadata": {},
     "output_type": "display_data"
    },
    {
     "data": {
      "text/html": [
       "<pre style=\"white-space:pre;overflow-x:auto;line-height:normal;font-family:Menlo,'DejaVu Sans Mono',consolas,'Courier New',monospace\">---\n",
       "</pre>\n"
      ],
      "text/plain": [
       "---\n"
      ]
     },
     "metadata": {},
     "output_type": "display_data"
    },
    {
     "data": {
      "text/html": [
       "<pre style=\"white-space:pre;overflow-x:auto;line-height:normal;font-family:Menlo,'DejaVu Sans Mono',consolas,'Courier New',monospace\">Sellers printing counterfeit books and selling under Amazon's brand\n",
       "</pre>\n"
      ],
      "text/plain": [
       "Sellers printing counterfeit books and selling under Amazon's brand\n"
      ]
     },
     "metadata": {},
     "output_type": "display_data"
    },
    {
     "data": {
      "text/html": [
       "<pre style=\"white-space:pre;overflow-x:auto;line-height:normal;font-family:Menlo,'DejaVu Sans Mono',consolas,'Courier New',monospace\"><span style=\"font-weight: bold\">&lt;</span><span style=\"color: #ff00ff; text-decoration-color: #ff00ff; font-weight: bold\">think</span><span style=\"color: #000000; text-decoration-color: #000000\">&gt;</span>\n",
       "<span style=\"color: #000000; text-decoration-color: #000000\">Okay, so I need to figure out which category the HackerNews post with the title </span><span style=\"color: #008000; text-decoration-color: #008000\">\"Sellers printing counterfeit books</span>\n",
       "<span style=\"color: #008000; text-decoration-color: #008000\">and selling under Amazon's brand\"</span><span style=\"color: #000000; text-decoration-color: #000000\"> belongs to. Let me go through each category one by one.</span>\n",
       "\n",
       "<span style=\"color: #000000; text-decoration-color: #000000\">First, looking at the categories provided: dev, web, ai_ml, security, business, career, science, tools, culture, </span>\n",
       "<span style=\"color: #000000; text-decoration-color: #000000\">tech_news.</span>\n",
       "\n",
       "<span style=\"color: #000000; text-decoration-color: #000000\">The title is about sellers creating counterfeit books and selling them under Amazon's brand. That sounds more </span>\n",
       "<span style=\"color: #000000; text-decoration-color: #000000\">related to a business issue because it involves illegal activities in the e-commerce space. Amazon is a big </span>\n",
       "<span style=\"color: #000000; text-decoration-color: #000000\">company, so if they're involved in counterfeit products, that would be a concern for their business practices or </span>\n",
       "<span style=\"color: #000000; text-decoration-color: #000000\">possibly an issue with consumer trust.</span>\n",
       "\n",
       "<span style=\"color: #000000; text-decoration-color: #000000\">Let me think about each category:</span>\n",
       "\n",
       "<span style=\"color: #008080; text-decoration-color: #008080; font-weight: bold\">1</span><span style=\"color: #000000; text-decoration-color: #000000\">. Dev: This is about programming and software development. The title doesn't mention any coding or tech details.</span>\n",
       "<span style=\"color: #008080; text-decoration-color: #008080; font-weight: bold\">2</span><span style=\"color: #000000; text-decoration-color: #000000\">. Web: It's related to web development or frameworks, but the post isn't discussing any websites or technical </span>\n",
       "<span style=\"color: #000000; text-decoration-color: #000000\">aspects of web stuff.</span>\n",
       "<span style=\"color: #008080; text-decoration-color: #008080; font-weight: bold\">3</span><span style=\"color: #000000; text-decoration-color: #000000\">. Ai_ml: That's AI and machine learning; nothing in the title suggests that.</span>\n",
       "<span style=\"color: #008080; text-decoration-color: #008080; font-weight: bold\">4</span><span style=\"color: #000000; text-decoration-color: #000000\">. Security: While counterfeit books could involve security issues, it's more about legality than cybersecurity </span>\n",
       "<span style=\"color: #000000; text-decoration-color: #000000\">measures.</span>\n",
       "<span style=\"color: #008080; text-decoration-color: #008080; font-weight: bold\">5</span><span style=\"color: #000000; text-decoration-color: #000000\">. Business: This seems relevant because selling counterfeit products is a business-related issue, possibly </span>\n",
       "<span style=\"color: #000000; text-decoration-color: #000000\">affecting Amazon's reputation or compliance with anti-counterfeiting laws.</span>\n",
       "<span style=\"color: #008080; text-decoration-color: #008080; font-weight: bold\">6</span><span style=\"color: #000000; text-decoration-color: #000000\">. Career: Doesn't fit at all; no job-related content here.</span>\n",
       "<span style=\"color: #008080; text-decoration-color: #008080; font-weight: bold\">7</span><span style=\"color: #000000; text-decoration-color: #000000\">. Science: Not related to research or academic topics.</span>\n",
       "<span style=\"color: #008080; text-decoration-color: #008080; font-weight: bold\">8</span><span style=\"color: #000000; text-decoration-color: #000000\">. Tools: No mention of any software tools being used or discussed.</span>\n",
       "<span style=\"color: #008080; text-decoration-color: #008080; font-weight: bold\">9</span><span style=\"color: #000000; text-decoration-color: #000000\">. Culture: More about trends in the tech industry, which isn't what's happening here.</span>\n",
       "<span style=\"color: #008080; text-decoration-color: #008080; font-weight: bold\">10</span><span style=\"color: #000000; text-decoration-color: #000000\">. Tech_news: While it does involve technology companies, the issue is more about business practices than general </span>\n",
       "<span style=\"color: #000000; text-decoration-color: #000000\">tech news.</span>\n",
       "\n",
       "<span style=\"color: #000000; text-decoration-color: #000000\">Putting this together, the issue is a business-related problem because it involves illegal activities affecting a </span>\n",
       "<span style=\"color: #000000; text-decoration-color: #000000\">company like Amazon and consumer trust. So the best fit would be </span><span style=\"color: #008000; text-decoration-color: #008000\">\"business\"</span><span style=\"color: #000000; text-decoration-color: #000000\">.</span>\n",
       "<span style=\"color: #000000; text-decoration-color: #000000\">&lt;</span><span style=\"color: #800080; text-decoration-color: #800080\">/</span><span style=\"color: #ff00ff; text-decoration-color: #ff00ff\">think</span><span style=\"font-weight: bold\">&gt;</span>\n",
       "\n",
       "<span style=\"font-weight: bold\">{</span><span style=\"color: #008000; text-decoration-color: #008000\">\"explanation\"</span>: <span style=\"color: #008000; text-decoration-color: #008000\">\"The post discusses sellers printing counterfeit books under Amazon's brand, which relates to </span>\n",
       "<span style=\"color: #008000; text-decoration-color: #008000\">illegal activities in the e-commerce sector. This falls under business issues concerning anti-counterfeiting and </span>\n",
       "<span style=\"color: #008000; text-decoration-color: #008000\">consumer trust, making it most appropriate for the 'business' category.\"</span>, <span style=\"color: #008000; text-decoration-color: #008000\">\"label\"</span>: <span style=\"color: #008000; text-decoration-color: #008000\">\"business\"</span><span style=\"font-weight: bold\">}</span>\n",
       "</pre>\n"
      ],
      "text/plain": [
       "\u001b[1m<\u001b[0m\u001b[1;95mthink\u001b[0m\u001b[39m>\u001b[0m\n",
       "\u001b[39mOkay, so I need to figure out which category the HackerNews post with the title \u001b[0m\u001b[32m\"Sellers printing counterfeit books\u001b[0m\n",
       "\u001b[32mand selling under Amazon's brand\"\u001b[0m\u001b[39m belongs to. Let me go through each category one by one.\u001b[0m\n",
       "\n",
       "\u001b[39mFirst, looking at the categories provided: dev, web, ai_ml, security, business, career, science, tools, culture, \u001b[0m\n",
       "\u001b[39mtech_news.\u001b[0m\n",
       "\n",
       "\u001b[39mThe title is about sellers creating counterfeit books and selling them under Amazon's brand. That sounds more \u001b[0m\n",
       "\u001b[39mrelated to a business issue because it involves illegal activities in the e-commerce space. Amazon is a big \u001b[0m\n",
       "\u001b[39mcompany, so if they're involved in counterfeit products, that would be a concern for their business practices or \u001b[0m\n",
       "\u001b[39mpossibly an issue with consumer trust.\u001b[0m\n",
       "\n",
       "\u001b[39mLet me think about each category:\u001b[0m\n",
       "\n",
       "\u001b[1;36m1\u001b[0m\u001b[39m. Dev: This is about programming and software development. The title doesn't mention any coding or tech details.\u001b[0m\n",
       "\u001b[1;36m2\u001b[0m\u001b[39m. Web: It's related to web development or frameworks, but the post isn't discussing any websites or technical \u001b[0m\n",
       "\u001b[39maspects of web stuff.\u001b[0m\n",
       "\u001b[1;36m3\u001b[0m\u001b[39m. Ai_ml: That's AI and machine learning; nothing in the title suggests that.\u001b[0m\n",
       "\u001b[1;36m4\u001b[0m\u001b[39m. Security: While counterfeit books could involve security issues, it's more about legality than cybersecurity \u001b[0m\n",
       "\u001b[39mmeasures.\u001b[0m\n",
       "\u001b[1;36m5\u001b[0m\u001b[39m. Business: This seems relevant because selling counterfeit products is a business-related issue, possibly \u001b[0m\n",
       "\u001b[39maffecting Amazon's reputation or compliance with anti-counterfeiting laws.\u001b[0m\n",
       "\u001b[1;36m6\u001b[0m\u001b[39m. Career: Doesn't fit at all; no job-related content here.\u001b[0m\n",
       "\u001b[1;36m7\u001b[0m\u001b[39m. Science: Not related to research or academic topics.\u001b[0m\n",
       "\u001b[1;36m8\u001b[0m\u001b[39m. Tools: No mention of any software tools being used or discussed.\u001b[0m\n",
       "\u001b[1;36m9\u001b[0m\u001b[39m. Culture: More about trends in the tech industry, which isn't what's happening here.\u001b[0m\n",
       "\u001b[1;36m10\u001b[0m\u001b[39m. Tech_news: While it does involve technology companies, the issue is more about business practices than general \u001b[0m\n",
       "\u001b[39mtech news.\u001b[0m\n",
       "\n",
       "\u001b[39mPutting this together, the issue is a business-related problem because it involves illegal activities affecting a \u001b[0m\n",
       "\u001b[39mcompany like Amazon and consumer trust. So the best fit would be \u001b[0m\u001b[32m\"business\"\u001b[0m\u001b[39m.\u001b[0m\n",
       "\u001b[39m<\u001b[0m\u001b[35m/\u001b[0m\u001b[95mthink\u001b[0m\u001b[1m>\u001b[0m\n",
       "\n",
       "\u001b[1m{\u001b[0m\u001b[32m\"explanation\"\u001b[0m: \u001b[32m\"The post discusses sellers printing counterfeit books under Amazon's brand, which relates to \u001b[0m\n",
       "\u001b[32millegal activities in the e-commerce sector. This falls under business issues concerning anti-counterfeiting and \u001b[0m\n",
       "\u001b[32mconsumer trust, making it most appropriate for the 'business' category.\"\u001b[0m, \u001b[32m\"label\"\u001b[0m: \u001b[32m\"business\"\u001b[0m\u001b[1m}\u001b[0m\n"
      ]
     },
     "metadata": {},
     "output_type": "display_data"
    },
    {
     "data": {
      "text/html": [
       "<pre style=\"white-space:pre;overflow-x:auto;line-height:normal;font-family:Menlo,'DejaVu Sans Mono',consolas,'Courier New',monospace\">---\n",
       "</pre>\n"
      ],
      "text/plain": [
       "---\n"
      ]
     },
     "metadata": {},
     "output_type": "display_data"
    },
    {
     "data": {
      "text/html": [
       "<pre style=\"white-space:pre;overflow-x:auto;line-height:normal;font-family:Menlo,'DejaVu Sans Mono',consolas,'Courier New',monospace\">What does the ??!??! operator do in C?\n",
       "</pre>\n"
      ],
      "text/plain": [
       "What does the ??!??! operator do in C?\n"
      ]
     },
     "metadata": {},
     "output_type": "display_data"
    },
    {
     "data": {
      "text/html": [
       "<pre style=\"white-space:pre;overflow-x:auto;line-height:normal;font-family:Menlo,'DejaVu Sans Mono',consolas,'Courier New',monospace\"><span style=\"font-weight: bold\">&lt;</span><span style=\"color: #ff00ff; text-decoration-color: #ff00ff; font-weight: bold\">think</span><span style=\"color: #000000; text-decoration-color: #000000\">&gt;</span>\n",
       "<span style=\"color: #000000; text-decoration-color: #000000\">Okay, so I need to figure out which category this Hacker News post belongs to based on the title: </span><span style=\"color: #008000; text-decoration-color: #008000\">\"What does the </span>\n",
       "<span style=\"color: #008000; text-decoration-color: #008000\">??!??! operator do in C?\"</span><span style=\"color: #000000; text-decoration-color: #000000\">. Let me break it down step by step.</span>\n",
       "\n",
       "<span style=\"color: #000000; text-decoration-color: #000000\">First, looking at the categories provided: dev, web, ai_ml, security, business, career, science, tools, culture, </span>\n",
       "<span style=\"color: #000000; text-decoration-color: #000000\">and tech_news. I need to choose one that best fits this title.</span>\n",
       "\n",
       "<span style=\"color: #000000; text-decoration-color: #000000\">The title is asking about an operator in the C programming language. Operators are a fundamental part of any </span>\n",
       "<span style=\"color: #000000; text-decoration-color: #000000\">programming language, so this seems directly related to programming. The question is about understanding what the </span>\n",
       "<span style=\"color: #000000; text-decoration-color: #000000\">??!??! operator does in C. Wait, actually, I'm not familiar with that exact operator. Maybe it's some kind of </span>\n",
       "<span style=\"color: #000000; text-decoration-color: #000000\">custom or less common operator? But regardless, the topic is definitely about a programming concept.</span>\n",
       "\n",
       "<span style=\"color: #000000; text-decoration-color: #000000\">Now, looking at the categories:</span>\n",
       "\n",
       "<span style=\"color: #008080; text-decoration-color: #008080; font-weight: bold\">1</span><span style=\"color: #000000; text-decoration-color: #000000\">. dev: This covers programming languages, coding practices, software development techniques. That seems like a </span>\n",
       "<span style=\"color: #000000; text-decoration-color: #000000\">good fit because the question is about understanding an operator in C, which falls under programming.</span>\n",
       "<span style=\"color: #008080; text-decoration-color: #008080; font-weight: bold\">2</span><span style=\"color: #000000; text-decoration-color: #000000\">. web: More related to web development or frameworks, which isn't this case.</span>\n",
       "<span style=\"color: #008080; text-decoration-color: #008080; font-weight: bold\">3</span><span style=\"color: #000000; text-decoration-color: #000000\">. ai_ml: Artificial intelligence and machine learning, not relevant here.</span>\n",
       "<span style=\"color: #008080; text-decoration-color: #008080; font-weight: bold\">4</span><span style=\"color: #000000; text-decoration-color: #000000\">. security: Cybersecurity stuff, again, not applicable.</span>\n",
       "<span style=\"color: #008080; text-decoration-color: #008080; font-weight: bold\">5</span><span style=\"color: #000000; text-decoration-color: #000000\">. business: Startups and funding, nope.</span>\n",
       "<span style=\"color: #008080; text-decoration-color: #008080; font-weight: bold\">6</span><span style=\"color: #000000; text-decoration-color: #000000\">. career: Job seeking advice, irrelevant.</span>\n",
       "<span style=\"color: #008080; text-decoration-color: #008080; font-weight: bold\">7</span><span style=\"color: #000000; text-decoration-color: #000000\">. science: Research or academic papers, doesn't fit.</span>\n",
       "<span style=\"color: #008080; text-decoration-color: #008080; font-weight: bold\">8</span><span style=\"color: #000000; text-decoration-color: #000000\">. tools: Development tools, maybe related but the question is about an operator in a language.</span>\n",
       "<span style=\"color: #008080; text-decoration-color: #008080; font-weight: bold\">9</span><span style=\"color: #000000; text-decoration-color: #000000\">. culture: Industry trends, not applicable.</span>\n",
       "<span style=\"color: #008080; text-decoration-color: #008080; font-weight: bold\">10</span><span style=\"color: #000000; text-decoration-color: #000000\">. tech_news: General tech updates, this could be a stretch.</span>\n",
       "\n",
       "<span style=\"color: #000000; text-decoration-color: #000000\">So, it's definitely not business, security, science, tools, culture, or tech news as a general category because </span>\n",
       "<span style=\"color: #000000; text-decoration-color: #000000\">those are broader and don't specifically address programming concepts. Web is about web stuff, which isn't </span>\n",
       "<span style=\"color: #000000; text-decoration-color: #000000\">relevant. AI and ML are out of the question. The only one that really makes sense here is </span><span style=\"color: #008000; text-decoration-color: #008000\">\"dev\"</span><span style=\"color: #000000; text-decoration-color: #000000\"> since it's about </span>\n",
       "<span style=\"color: #000000; text-decoration-color: #000000\">programming languages and coding.</span>\n",
       "\n",
       "<span style=\"color: #000000; text-decoration-color: #000000\">I think I'm confident enough to label this as dev.</span>\n",
       "<span style=\"color: #000000; text-decoration-color: #000000\">&lt;</span><span style=\"color: #800080; text-decoration-color: #800080\">/</span><span style=\"color: #ff00ff; text-decoration-color: #ff00ff\">think</span><span style=\"font-weight: bold\">&gt;</span>\n",
       "\n",
       "<span style=\"font-weight: bold\">{</span><span style=\"color: #008000; text-decoration-color: #008000\">\"explanation\"</span>: <span style=\"color: #008000; text-decoration-color: #008000\">\"The title asks about an operator in C programming language, which falls under programming concepts</span>\n",
       "<span style=\"color: #008000; text-decoration-color: #008000\">related to software development techniques. This aligns with the 'dev' category.\"</span>, <span style=\"color: #008000; text-decoration-color: #008000\">\"label\"</span>: <span style=\"color: #008000; text-decoration-color: #008000\">\"dev\"</span><span style=\"font-weight: bold\">}</span>\n",
       "</pre>\n"
      ],
      "text/plain": [
       "\u001b[1m<\u001b[0m\u001b[1;95mthink\u001b[0m\u001b[39m>\u001b[0m\n",
       "\u001b[39mOkay, so I need to figure out which category this Hacker News post belongs to based on the title: \u001b[0m\u001b[32m\"What does the \u001b[0m\n",
       "\u001b[32m??!??! operator do in C?\"\u001b[0m\u001b[39m. Let me break it down step by step.\u001b[0m\n",
       "\n",
       "\u001b[39mFirst, looking at the categories provided: dev, web, ai_ml, security, business, career, science, tools, culture, \u001b[0m\n",
       "\u001b[39mand tech_news. I need to choose one that best fits this title.\u001b[0m\n",
       "\n",
       "\u001b[39mThe title is asking about an operator in the C programming language. Operators are a fundamental part of any \u001b[0m\n",
       "\u001b[39mprogramming language, so this seems directly related to programming. The question is about understanding what the \u001b[0m\n",
       "\u001b[39m??!??! operator does in C. Wait, actually, I'm not familiar with that exact operator. Maybe it's some kind of \u001b[0m\n",
       "\u001b[39mcustom or less common operator? But regardless, the topic is definitely about a programming concept.\u001b[0m\n",
       "\n",
       "\u001b[39mNow, looking at the categories:\u001b[0m\n",
       "\n",
       "\u001b[1;36m1\u001b[0m\u001b[39m. dev: This covers programming languages, coding practices, software development techniques. That seems like a \u001b[0m\n",
       "\u001b[39mgood fit because the question is about understanding an operator in C, which falls under programming.\u001b[0m\n",
       "\u001b[1;36m2\u001b[0m\u001b[39m. web: More related to web development or frameworks, which isn't this case.\u001b[0m\n",
       "\u001b[1;36m3\u001b[0m\u001b[39m. ai_ml: Artificial intelligence and machine learning, not relevant here.\u001b[0m\n",
       "\u001b[1;36m4\u001b[0m\u001b[39m. security: Cybersecurity stuff, again, not applicable.\u001b[0m\n",
       "\u001b[1;36m5\u001b[0m\u001b[39m. business: Startups and funding, nope.\u001b[0m\n",
       "\u001b[1;36m6\u001b[0m\u001b[39m. career: Job seeking advice, irrelevant.\u001b[0m\n",
       "\u001b[1;36m7\u001b[0m\u001b[39m. science: Research or academic papers, doesn't fit.\u001b[0m\n",
       "\u001b[1;36m8\u001b[0m\u001b[39m. tools: Development tools, maybe related but the question is about an operator in a language.\u001b[0m\n",
       "\u001b[1;36m9\u001b[0m\u001b[39m. culture: Industry trends, not applicable.\u001b[0m\n",
       "\u001b[1;36m10\u001b[0m\u001b[39m. tech_news: General tech updates, this could be a stretch.\u001b[0m\n",
       "\n",
       "\u001b[39mSo, it's definitely not business, security, science, tools, culture, or tech news as a general category because \u001b[0m\n",
       "\u001b[39mthose are broader and don't specifically address programming concepts. Web is about web stuff, which isn't \u001b[0m\n",
       "\u001b[39mrelevant. AI and ML are out of the question. The only one that really makes sense here is \u001b[0m\u001b[32m\"dev\"\u001b[0m\u001b[39m since it's about \u001b[0m\n",
       "\u001b[39mprogramming languages and coding.\u001b[0m\n",
       "\n",
       "\u001b[39mI think I'm confident enough to label this as dev.\u001b[0m\n",
       "\u001b[39m<\u001b[0m\u001b[35m/\u001b[0m\u001b[95mthink\u001b[0m\u001b[1m>\u001b[0m\n",
       "\n",
       "\u001b[1m{\u001b[0m\u001b[32m\"explanation\"\u001b[0m: \u001b[32m\"The title asks about an operator in C programming language, which falls under programming concepts\u001b[0m\n",
       "\u001b[32mrelated to software development techniques. This aligns with the 'dev' category.\"\u001b[0m, \u001b[32m\"label\"\u001b[0m: \u001b[32m\"dev\"\u001b[0m\u001b[1m}\u001b[0m\n"
      ]
     },
     "metadata": {},
     "output_type": "display_data"
    },
    {
     "data": {
      "text/html": [
       "<pre style=\"white-space:pre;overflow-x:auto;line-height:normal;font-family:Menlo,'DejaVu Sans Mono',consolas,'Courier New',monospace\">---\n",
       "</pre>\n"
      ],
      "text/plain": [
       "---\n"
      ]
     },
     "metadata": {},
     "output_type": "display_data"
    },
    {
     "data": {
      "text/html": [
       "<pre style=\"white-space:pre;overflow-x:auto;line-height:normal;font-family:Menlo,'DejaVu Sans Mono',consolas,'Courier New',monospace\">React.js Introduction for People Who Know Just Enough JQuery\n",
       "</pre>\n"
      ],
      "text/plain": [
       "React.js Introduction for People Who Know Just Enough JQuery\n"
      ]
     },
     "metadata": {},
     "output_type": "display_data"
    },
    {
     "data": {
      "text/html": [
       "<pre style=\"white-space:pre;overflow-x:auto;line-height:normal;font-family:Menlo,'DejaVu Sans Mono',consolas,'Courier New',monospace\"><span style=\"font-weight: bold\">&lt;</span><span style=\"color: #ff00ff; text-decoration-color: #ff00ff; font-weight: bold\">think</span><span style=\"color: #000000; text-decoration-color: #000000\">&gt;</span>\n",
       "<span style=\"color: #000000; text-decoration-color: #000000\">Okay, so I'm trying to figure out which category this Hacker News post belongs to. The title is </span><span style=\"color: #008000; text-decoration-color: #008000\">\"React.js </span>\n",
       "<span style=\"color: #008000; text-decoration-color: #008000\">Introduction for People Who Know Just Enough jQuery.\"</span><span style=\"color: #000000; text-decoration-color: #000000\"> Let me break it down.</span>\n",
       "\n",
       "<span style=\"color: #000000; text-decoration-color: #000000\">First, React.js is a JavaScript library used for building user interfaces. It's pretty popular in web development </span>\n",
       "<span style=\"color: #000000; text-decoration-color: #000000\">because it helps create reusable components and separates the presentation from the business logic. So that </span>\n",
       "<span style=\"color: #000000; text-decoration-color: #000000\">immediately makes me think of web development since React.js is a frontend framework.</span>\n",
       "\n",
       "<span style=\"color: #000000; text-decoration-color: #000000\">Now, looking at jQuery, which is another jQuery is a set of tools for manipulating HTML elements with simple </span>\n",
       "<span style=\"color: #000000; text-decoration-color: #000000\">JavaScript. It's often used alongside vanilla JavaScript in DOM manipulation tasks. jQuery was also widely used </span>\n",
       "<span style=\"color: #000000; text-decoration-color: #000000\">before it got replaced by better frameworks like React.js and Vue.js.</span>\n",
       "\n",
       "<span style=\"color: #000000; text-decoration-color: #000000\">The title mentions that the introduction is for people who already know jQuery. That suggests it's meant to help </span>\n",
       "<span style=\"color: #000000; text-decoration-color: #000000\">those transitioning from jQuery to React.js, which further points towards web development as the category because </span>\n",
       "<span style=\"color: #000000; text-decoration-color: #000000\">it's about moving within a specific part of web dev.</span>\n",
       "\n",
       "<span style=\"color: #000000; text-decoration-color: #000000\">Looking at the categories provided: dev, web, ai_ml, security, business, career, science, tools, culture, </span>\n",
       "<span style=\"color: #000000; text-decoration-color: #000000\">tech_news. Since React.js is related to JavaScript and framework usage in web apps, </span><span style=\"color: #008000; text-decoration-color: #008000\">\"web\"</span><span style=\"color: #000000; text-decoration-color: #000000\"> seems like the best fit. </span>\n",
       "<span style=\"color: #000000; text-decoration-color: #000000\">It's not just about programming languages </span><span style=\"color: #000000; text-decoration-color: #000000; font-weight: bold\">(</span><span style=\"color: #000000; text-decoration-color: #000000\">dev could be close</span><span style=\"color: #000000; text-decoration-color: #000000; font-weight: bold\">)</span><span style=\"color: #000000; text-decoration-color: #000000\">, but more specifically about web development tools </span>\n",
       "<span style=\"color: #000000; text-decoration-color: #000000\">and frameworks.</span>\n",
       "\n",
       "<span style=\"color: #000000; text-decoration-color: #000000\">So putting it all together, the post is likely aimed at developers learning a specific web framework after having </span>\n",
       "<span style=\"color: #000000; text-decoration-color: #000000\">some experience with jQuery, making the category </span><span style=\"color: #008000; text-decoration-color: #008000\">\"web.\"</span>\n",
       "<span style=\"color: #000000; text-decoration-color: #000000\">&lt;</span><span style=\"color: #800080; text-decoration-color: #800080\">/</span><span style=\"color: #ff00ff; text-decoration-color: #ff00ff\">think</span><span style=\"font-weight: bold\">&gt;</span>\n",
       "\n",
       "```json\n",
       "<span style=\"font-weight: bold\">{</span><span style=\"color: #008000; text-decoration-color: #008000\">\"explanation\"</span>: <span style=\"color: #008000; text-decoration-color: #008000\">\"The title discusses React.js, a JavaScript library used for building user interfaces, targeting </span>\n",
       "<span style=\"color: #008000; text-decoration-color: #008000\">those familiar with jQuery. Since React.js is related to web development frameworks and frontend technologies, this</span>\n",
       "<span style=\"color: #008000; text-decoration-color: #008000\">falls under the 'web' category.\"</span>, <span style=\"color: #008000; text-decoration-color: #008000\">\"label\"</span>: <span style=\"color: #008000; text-decoration-color: #008000\">\"web\"</span><span style=\"font-weight: bold\">}</span>\n",
       "```\n",
       "</pre>\n"
      ],
      "text/plain": [
       "\u001b[1m<\u001b[0m\u001b[1;95mthink\u001b[0m\u001b[39m>\u001b[0m\n",
       "\u001b[39mOkay, so I'm trying to figure out which category this Hacker News post belongs to. The title is \u001b[0m\u001b[32m\"React.js \u001b[0m\n",
       "\u001b[32mIntroduction for People Who Know Just Enough jQuery.\"\u001b[0m\u001b[39m Let me break it down.\u001b[0m\n",
       "\n",
       "\u001b[39mFirst, React.js is a JavaScript library used for building user interfaces. It's pretty popular in web development \u001b[0m\n",
       "\u001b[39mbecause it helps create reusable components and separates the presentation from the business logic. So that \u001b[0m\n",
       "\u001b[39mimmediately makes me think of web development since React.js is a frontend framework.\u001b[0m\n",
       "\n",
       "\u001b[39mNow, looking at jQuery, which is another jQuery is a set of tools for manipulating HTML elements with simple \u001b[0m\n",
       "\u001b[39mJavaScript. It's often used alongside vanilla JavaScript in DOM manipulation tasks. jQuery was also widely used \u001b[0m\n",
       "\u001b[39mbefore it got replaced by better frameworks like React.js and Vue.js.\u001b[0m\n",
       "\n",
       "\u001b[39mThe title mentions that the introduction is for people who already know jQuery. That suggests it's meant to help \u001b[0m\n",
       "\u001b[39mthose transitioning from jQuery to React.js, which further points towards web development as the category because \u001b[0m\n",
       "\u001b[39mit's about moving within a specific part of web dev.\u001b[0m\n",
       "\n",
       "\u001b[39mLooking at the categories provided: dev, web, ai_ml, security, business, career, science, tools, culture, \u001b[0m\n",
       "\u001b[39mtech_news. Since React.js is related to JavaScript and framework usage in web apps, \u001b[0m\u001b[32m\"web\"\u001b[0m\u001b[39m seems like the best fit. \u001b[0m\n",
       "\u001b[39mIt's not just about programming languages \u001b[0m\u001b[1;39m(\u001b[0m\u001b[39mdev could be close\u001b[0m\u001b[1;39m)\u001b[0m\u001b[39m, but more specifically about web development tools \u001b[0m\n",
       "\u001b[39mand frameworks.\u001b[0m\n",
       "\n",
       "\u001b[39mSo putting it all together, the post is likely aimed at developers learning a specific web framework after having \u001b[0m\n",
       "\u001b[39msome experience with jQuery, making the category \u001b[0m\u001b[32m\"web.\"\u001b[0m\n",
       "\u001b[39m<\u001b[0m\u001b[35m/\u001b[0m\u001b[95mthink\u001b[0m\u001b[1m>\u001b[0m\n",
       "\n",
       "```json\n",
       "\u001b[1m{\u001b[0m\u001b[32m\"explanation\"\u001b[0m: \u001b[32m\"The title discusses React.js, a JavaScript library used for building user interfaces, targeting \u001b[0m\n",
       "\u001b[32mthose familiar with jQuery. Since React.js is related to web development frameworks and frontend technologies, this\u001b[0m\n",
       "\u001b[32mfalls under the 'web' category.\"\u001b[0m, \u001b[32m\"label\"\u001b[0m: \u001b[32m\"web\"\u001b[0m\u001b[1m}\u001b[0m\n",
       "```\n"
      ]
     },
     "metadata": {},
     "output_type": "display_data"
    },
    {
     "data": {
      "text/html": [
       "<pre style=\"white-space:pre;overflow-x:auto;line-height:normal;font-family:Menlo,'DejaVu Sans Mono',consolas,'Courier New',monospace\">---\n",
       "</pre>\n"
      ],
      "text/plain": [
       "---\n"
      ]
     },
     "metadata": {},
     "output_type": "display_data"
    },
    {
     "data": {
      "text/html": [
       "<pre style=\"white-space:pre;overflow-x:auto;line-height:normal;font-family:Menlo,'DejaVu Sans Mono',consolas,'Courier New',monospace\">Email a Dumpster Fire\n",
       "</pre>\n"
      ],
      "text/plain": [
       "Email a Dumpster Fire\n"
      ]
     },
     "metadata": {},
     "output_type": "display_data"
    },
    {
     "data": {
      "text/html": [
       "<pre style=\"white-space:pre;overflow-x:auto;line-height:normal;font-family:Menlo,'DejaVu Sans Mono',consolas,'Courier New',monospace\"><span style=\"font-weight: bold\">&lt;</span><span style=\"color: #ff00ff; text-decoration-color: #ff00ff; font-weight: bold\">think</span><span style=\"color: #000000; text-decoration-color: #000000\">&gt;</span>\n",
       "<span style=\"color: #000000; text-decoration-color: #000000\">Alright, I'm looking at the title </span><span style=\"color: #008000; text-decoration-color: #008000\">\"Email a Dumpster Fire.\"</span><span style=\"color: #000000; text-decoration-color: #000000\"> Hmm, that's an interesting one. The first thing that </span>\n",
       "<span style=\"color: #000000; text-decoration-color: #000000\">comes to mind is the phrase </span><span style=\"color: #008000; text-decoration-color: #008000\">\"dUMPster fire,\"</span><span style=\"color: #000000; text-decoration-color: #000000\"> which I believe refers to deleting files on a computer by burning </span>\n",
       "<span style=\"color: #000000; text-decoration-color: #000000\">them, usually done in command line environments like bash or zsh. So this post is probably about how to delete </span>\n",
       "<span style=\"color: #000000; text-decoration-color: #000000\">files securely and without leaving any evidence.</span>\n",
       "\n",
       "<span style=\"color: #000000; text-decoration-color: #000000\">Now, considering the categories provided: dev </span><span style=\"color: #000000; text-decoration-color: #000000; font-weight: bold\">(</span><span style=\"color: #000000; text-decoration-color: #000000\">programming</span><span style=\"color: #000000; text-decoration-color: #000000; font-weight: bold\">)</span><span style=\"color: #000000; text-decoration-color: #000000\">, web </span><span style=\"color: #000000; text-decoration-color: #000000; font-weight: bold\">(</span><span style=\"color: #000000; text-decoration-color: #000000\">web dev</span><span style=\"color: #000000; text-decoration-color: #000000; font-weight: bold\">)</span><span style=\"color: #000000; text-decoration-color: #000000\">, ai_ml </span><span style=\"color: #000000; text-decoration-color: #000000; font-weight: bold\">(</span><span style=\"color: #000000; text-decoration-color: #000000\">AI/ML</span><span style=\"color: #000000; text-decoration-color: #000000; font-weight: bold\">)</span><span style=\"color: #000000; text-decoration-color: #000000\">, security, business, </span>\n",
       "<span style=\"color: #000000; text-decoration-color: #000000\">career, science, tools, culture, and tech news. Since </span><span style=\"color: #008000; text-decoration-color: #008000\">\"Dumpster fire\"</span><span style=\"color: #000000; text-decoration-color: #000000\"> relates to deleting files, which is a common </span>\n",
       "<span style=\"color: #000000; text-decoration-color: #000000\">task in programming, it falls under development practices. The post might be discussing best practices for data </span>\n",
       "<span style=\"color: #000000; text-decoration-color: #000000\">deletion or how to properly clean up code without leaving traces.</span>\n",
       "\n",
       "<span style=\"color: #000000; text-decoration-color: #000000\">I don't see any direct links to web development specifics like frameworks or browsers here. It's not about AI or </span>\n",
       "<span style=\"color: #000000; text-decoration-color: #000000\">machine learning either. Security could be related since deleting files securely is a security measure, but the </span>\n",
       "<span style=\"color: #000000; text-decoration-color: #000000\">term </span><span style=\"color: #008000; text-decoration-color: #008000\">\"dUMPster fire\"</span><span style=\"color: #000000; text-decoration-color: #000000\"> specifically points more towards programming practices rather than general cybersecurity </span>\n",
       "<span style=\"color: #000000; text-decoration-color: #000000\">advice.</span>\n",
       "\n",
       "<span style=\"color: #000000; text-decoration-color: #000000\">So putting it all together, this title seems most fitting under the dev category because it's about a common task </span>\n",
       "<span style=\"color: #000000; text-decoration-color: #000000\">in software development that requires attention to detail and security.</span>\n",
       "<span style=\"color: #000000; text-decoration-color: #000000\">&lt;</span><span style=\"color: #800080; text-decoration-color: #800080\">/</span><span style=\"color: #ff00ff; text-decoration-color: #ff00ff\">think</span><span style=\"font-weight: bold\">&gt;</span>\n",
       "\n",
       "The title <span style=\"color: #008000; text-decoration-color: #008000\">\"Email a Dumpster Fire\"</span> refers to securely deleting files using command line tools like bash or zsh. It \n",
       "falls under programming practices, making it relevant to software development.\n",
       "\n",
       "```json\n",
       "<span style=\"font-weight: bold\">{</span><span style=\"color: #008000; text-decoration-color: #008000\">\"explanation\"</span>: <span style=\"color: #008000; text-decoration-color: #008000\">\"The title 'Email a Dumpster Fire' relates to securely deleting files using command line tools, </span>\n",
       "<span style=\"color: #008000; text-decoration-color: #008000\">which is a common task in programming and software development. This fits the 'dev' category as it pertains to </span>\n",
       "<span style=\"color: #008000; text-decoration-color: #008000\">programming practices and tools.\"</span>, <span style=\"color: #008000; text-decoration-color: #008000\">\"label\"</span>: <span style=\"color: #008000; text-decoration-color: #008000\">\"dev\"</span><span style=\"font-weight: bold\">}</span>\n",
       "```\n",
       "</pre>\n"
      ],
      "text/plain": [
       "\u001b[1m<\u001b[0m\u001b[1;95mthink\u001b[0m\u001b[39m>\u001b[0m\n",
       "\u001b[39mAlright, I'm looking at the title \u001b[0m\u001b[32m\"Email a Dumpster Fire.\"\u001b[0m\u001b[39m Hmm, that's an interesting one. The first thing that \u001b[0m\n",
       "\u001b[39mcomes to mind is the phrase \u001b[0m\u001b[32m\"dUMPster fire,\"\u001b[0m\u001b[39m which I believe refers to deleting files on a computer by burning \u001b[0m\n",
       "\u001b[39mthem, usually done in command line environments like bash or zsh. So this post is probably about how to delete \u001b[0m\n",
       "\u001b[39mfiles securely and without leaving any evidence.\u001b[0m\n",
       "\n",
       "\u001b[39mNow, considering the categories provided: dev \u001b[0m\u001b[1;39m(\u001b[0m\u001b[39mprogramming\u001b[0m\u001b[1;39m)\u001b[0m\u001b[39m, web \u001b[0m\u001b[1;39m(\u001b[0m\u001b[39mweb dev\u001b[0m\u001b[1;39m)\u001b[0m\u001b[39m, ai_ml \u001b[0m\u001b[1;39m(\u001b[0m\u001b[39mAI/ML\u001b[0m\u001b[1;39m)\u001b[0m\u001b[39m, security, business, \u001b[0m\n",
       "\u001b[39mcareer, science, tools, culture, and tech news. Since \u001b[0m\u001b[32m\"Dumpster fire\"\u001b[0m\u001b[39m relates to deleting files, which is a common \u001b[0m\n",
       "\u001b[39mtask in programming, it falls under development practices. The post might be discussing best practices for data \u001b[0m\n",
       "\u001b[39mdeletion or how to properly clean up code without leaving traces.\u001b[0m\n",
       "\n",
       "\u001b[39mI don't see any direct links to web development specifics like frameworks or browsers here. It's not about AI or \u001b[0m\n",
       "\u001b[39mmachine learning either. Security could be related since deleting files securely is a security measure, but the \u001b[0m\n",
       "\u001b[39mterm \u001b[0m\u001b[32m\"dUMPster fire\"\u001b[0m\u001b[39m specifically points more towards programming practices rather than general cybersecurity \u001b[0m\n",
       "\u001b[39madvice.\u001b[0m\n",
       "\n",
       "\u001b[39mSo putting it all together, this title seems most fitting under the dev category because it's about a common task \u001b[0m\n",
       "\u001b[39min software development that requires attention to detail and security.\u001b[0m\n",
       "\u001b[39m<\u001b[0m\u001b[35m/\u001b[0m\u001b[95mthink\u001b[0m\u001b[1m>\u001b[0m\n",
       "\n",
       "The title \u001b[32m\"Email a Dumpster Fire\"\u001b[0m refers to securely deleting files using command line tools like bash or zsh. It \n",
       "falls under programming practices, making it relevant to software development.\n",
       "\n",
       "```json\n",
       "\u001b[1m{\u001b[0m\u001b[32m\"explanation\"\u001b[0m: \u001b[32m\"The title 'Email a Dumpster Fire' relates to securely deleting files using command line tools, \u001b[0m\n",
       "\u001b[32mwhich is a common task in programming and software development. This fits the 'dev' category as it pertains to \u001b[0m\n",
       "\u001b[32mprogramming practices and tools.\"\u001b[0m, \u001b[32m\"label\"\u001b[0m: \u001b[32m\"dev\"\u001b[0m\u001b[1m}\u001b[0m\n",
       "```\n"
      ]
     },
     "metadata": {},
     "output_type": "display_data"
    },
    {
     "data": {
      "text/html": [
       "<pre style=\"white-space:pre;overflow-x:auto;line-height:normal;font-family:Menlo,'DejaVu Sans Mono',consolas,'Courier New',monospace\">---\n",
       "</pre>\n"
      ],
      "text/plain": [
       "---\n"
      ]
     },
     "metadata": {},
     "output_type": "display_data"
    },
    {
     "data": {
      "text/html": [
       "<pre style=\"white-space:pre;overflow-x:auto;line-height:normal;font-family:Menlo,'DejaVu Sans Mono',consolas,'Courier New',monospace\">A Billionaire Mathematician’s Life of Ferocious Curiosity\n",
       "</pre>\n"
      ],
      "text/plain": [
       "A Billionaire Mathematician’s Life of Ferocious Curiosity\n"
      ]
     },
     "metadata": {},
     "output_type": "display_data"
    },
    {
     "data": {
      "text/html": [
       "<pre style=\"white-space:pre;overflow-x:auto;line-height:normal;font-family:Menlo,'DejaVu Sans Mono',consolas,'Courier New',monospace\"><span style=\"font-weight: bold\">&lt;</span><span style=\"color: #ff00ff; text-decoration-color: #ff00ff; font-weight: bold\">think</span><span style=\"color: #000000; text-decoration-color: #000000\">&gt;</span>\n",
       "<span style=\"color: #000000; text-decoration-color: #000000\">Alright, I'm trying to figure out which category the given HackerNews post title belongs to. The title is </span><span style=\"color: #008000; text-decoration-color: #008000\">\"A </span>\n",
       "<span style=\"color: #008000; text-decoration-color: #008000\">Billionaire Mathematician’s Life of Ferocious Curiosity.\"</span><span style=\"color: #000000; text-decoration-color: #000000\"> </span>\n",
       "\n",
       "<span style=\"color: #000000; text-decoration-color: #000000\">First, I'll break down the title. It mentions a billionaire mathematician and talks about a life filled with </span>\n",
       "<span style=\"color: #000000; text-decoration-color: #000000\">intense curiosity. So, the main subject here seems to be a person's lifestyle or career path. Since it's about a </span>\n",
       "<span style=\"color: #000000; text-decoration-color: #000000\">mathematician, that ties into mathematics.</span>\n",
       "\n",
       "<span style=\"color: #000000; text-decoration-color: #000000\">Looking at the categories provided:</span>\n",
       "\n",
       "<span style=\"color: #008080; text-decoration-color: #008080; font-weight: bold\">1</span><span style=\"color: #000000; text-decoration-color: #000000\">. dev: Programming languages, coding practices, software development techniques</span>\n",
       "<span style=\"color: #008080; text-decoration-color: #008080; font-weight: bold\">2</span><span style=\"color: #000000; text-decoration-color: #000000\">. web: Web development, browsers, frontend/backend frameworks, web standards</span>\n",
       "<span style=\"color: #008080; text-decoration-color: #008080; font-weight: bold\">3</span><span style=\"color: #000000; text-decoration-color: #000000\">. ai_ml: Artificial intelligence, machine learning, data science</span>\n",
       "<span style=\"color: #008080; text-decoration-color: #008080; font-weight: bold\">4</span><span style=\"color: #000000; text-decoration-color: #000000\">. security: Cybersecurity, privacy, vulnerabilities, authentication</span>\n",
       "<span style=\"color: #008080; text-decoration-color: #008080; font-weight: bold\">5</span><span style=\"color: #000000; text-decoration-color: #000000\">. business: Startups, companies, funding, acquisitions, industry news</span>\n",
       "<span style=\"color: #008080; text-decoration-color: #008080; font-weight: bold\">6</span><span style=\"color: #000000; text-decoration-color: #000000\">. career: Job seeking, workplace discussions, professional development</span>\n",
       "<span style=\"color: #008080; text-decoration-color: #008080; font-weight: bold\">7</span><span style=\"color: #000000; text-decoration-color: #000000\">. science: Research, space exploration, physics, biology, academic papers</span>\n",
       "<span style=\"color: #008080; text-decoration-color: #008080; font-weight: bold\">8</span><span style=\"color: #000000; text-decoration-color: #000000\">. tools: Development tools, utilities, software applications</span>\n",
       "<span style=\"color: #008080; text-decoration-color: #008080; font-weight: bold\">9</span><span style=\"color: #000000; text-decoration-color: #000000\">. culture: Tech industry trends, social impact, community issues</span>\n",
       "<span style=\"color: #008080; text-decoration-color: #008080; font-weight: bold\">10</span><span style=\"color: #000000; text-decoration-color: #000000\">. tech_news: General technology news and updates</span>\n",
       "\n",
       "<span style=\"color: #000000; text-decoration-color: #000000\">The title doesn't mention anything about programming, web development, AI, security, business deals, or specific </span>\n",
       "<span style=\"color: #000000; text-decoration-color: #000000\">tools. It's more about a person's life as a mathematician, which falls under professional development since it </span>\n",
       "<span style=\"color: #000000; text-decoration-color: #000000\">discusses a career aspect.</span>\n",
       "\n",
       "<span style=\"color: #000000; text-decoration-color: #000000\">So, the category that best fits this title is </span><span style=\"color: #008000; text-decoration-color: #008000\">\"career.\"</span>\n",
       "<span style=\"color: #000000; text-decoration-color: #000000\">&lt;</span><span style=\"color: #800080; text-decoration-color: #800080\">/</span><span style=\"color: #ff00ff; text-decoration-color: #ff00ff\">think</span><span style=\"font-weight: bold\">&gt;</span>\n",
       "\n",
       "<span style=\"font-weight: bold\">{</span><span style=\"color: #008000; text-decoration-color: #008000\">\"explanation\"</span>: <span style=\"color: #008000; text-decoration-color: #008000\">\"The title discusses a billionaire mathematician's life and curiosity, focusing on their career </span>\n",
       "<span style=\"color: #008000; text-decoration-color: #008000\">path and professional interests in mathematics. This aligns with the 'career' category as it pertains to an </span>\n",
       "<span style=\"color: #008000; text-decoration-color: #008000\">individual's professional journey.\"</span>, <span style=\"color: #008000; text-decoration-color: #008000\">\"label\"</span>: <span style=\"color: #008000; text-decoration-color: #008000\">\"career\"</span><span style=\"font-weight: bold\">}</span>\n",
       "</pre>\n"
      ],
      "text/plain": [
       "\u001b[1m<\u001b[0m\u001b[1;95mthink\u001b[0m\u001b[39m>\u001b[0m\n",
       "\u001b[39mAlright, I'm trying to figure out which category the given HackerNews post title belongs to. The title is \u001b[0m\u001b[32m\"A \u001b[0m\n",
       "\u001b[32mBillionaire Mathematician’s Life of Ferocious Curiosity.\"\u001b[0m\u001b[39m \u001b[0m\n",
       "\n",
       "\u001b[39mFirst, I'll break down the title. It mentions a billionaire mathematician and talks about a life filled with \u001b[0m\n",
       "\u001b[39mintense curiosity. So, the main subject here seems to be a person's lifestyle or career path. Since it's about a \u001b[0m\n",
       "\u001b[39mmathematician, that ties into mathematics.\u001b[0m\n",
       "\n",
       "\u001b[39mLooking at the categories provided:\u001b[0m\n",
       "\n",
       "\u001b[1;36m1\u001b[0m\u001b[39m. dev: Programming languages, coding practices, software development techniques\u001b[0m\n",
       "\u001b[1;36m2\u001b[0m\u001b[39m. web: Web development, browsers, frontend/backend frameworks, web standards\u001b[0m\n",
       "\u001b[1;36m3\u001b[0m\u001b[39m. ai_ml: Artificial intelligence, machine learning, data science\u001b[0m\n",
       "\u001b[1;36m4\u001b[0m\u001b[39m. security: Cybersecurity, privacy, vulnerabilities, authentication\u001b[0m\n",
       "\u001b[1;36m5\u001b[0m\u001b[39m. business: Startups, companies, funding, acquisitions, industry news\u001b[0m\n",
       "\u001b[1;36m6\u001b[0m\u001b[39m. career: Job seeking, workplace discussions, professional development\u001b[0m\n",
       "\u001b[1;36m7\u001b[0m\u001b[39m. science: Research, space exploration, physics, biology, academic papers\u001b[0m\n",
       "\u001b[1;36m8\u001b[0m\u001b[39m. tools: Development tools, utilities, software applications\u001b[0m\n",
       "\u001b[1;36m9\u001b[0m\u001b[39m. culture: Tech industry trends, social impact, community issues\u001b[0m\n",
       "\u001b[1;36m10\u001b[0m\u001b[39m. tech_news: General technology news and updates\u001b[0m\n",
       "\n",
       "\u001b[39mThe title doesn't mention anything about programming, web development, AI, security, business deals, or specific \u001b[0m\n",
       "\u001b[39mtools. It's more about a person's life as a mathematician, which falls under professional development since it \u001b[0m\n",
       "\u001b[39mdiscusses a career aspect.\u001b[0m\n",
       "\n",
       "\u001b[39mSo, the category that best fits this title is \u001b[0m\u001b[32m\"career.\"\u001b[0m\n",
       "\u001b[39m<\u001b[0m\u001b[35m/\u001b[0m\u001b[95mthink\u001b[0m\u001b[1m>\u001b[0m\n",
       "\n",
       "\u001b[1m{\u001b[0m\u001b[32m\"explanation\"\u001b[0m: \u001b[32m\"The title discusses a billionaire mathematician's life and curiosity, focusing on their career \u001b[0m\n",
       "\u001b[32mpath and professional interests in mathematics. This aligns with the 'career' category as it pertains to an \u001b[0m\n",
       "\u001b[32mindividual's professional journey.\"\u001b[0m, \u001b[32m\"label\"\u001b[0m: \u001b[32m\"career\"\u001b[0m\u001b[1m}\u001b[0m\n"
      ]
     },
     "metadata": {},
     "output_type": "display_data"
    },
    {
     "data": {
      "text/html": [
       "<pre style=\"white-space:pre;overflow-x:auto;line-height:normal;font-family:Menlo,'DejaVu Sans Mono',consolas,'Courier New',monospace\">---\n",
       "</pre>\n"
      ],
      "text/plain": [
       "---\n"
      ]
     },
     "metadata": {},
     "output_type": "display_data"
    },
    {
     "data": {
      "text/html": [
       "<pre style=\"white-space:pre;overflow-x:auto;line-height:normal;font-family:Menlo,'DejaVu Sans Mono',consolas,'Courier New',monospace\">NSA shares raw intelligence including Americans' data with Israel\n",
       "</pre>\n"
      ],
      "text/plain": [
       "NSA shares raw intelligence including Americans' data with Israel\n"
      ]
     },
     "metadata": {},
     "output_type": "display_data"
    },
    {
     "data": {
      "text/html": [
       "<pre style=\"white-space:pre;overflow-x:auto;line-height:normal;font-family:Menlo,'DejaVu Sans Mono',consolas,'Courier New',monospace\"><span style=\"font-weight: bold\">&lt;</span><span style=\"color: #ff00ff; text-decoration-color: #ff00ff; font-weight: bold\">think</span><span style=\"color: #000000; text-decoration-color: #000000\">&gt;</span>\n",
       "<span style=\"color: #000000; text-decoration-color: #000000\">Alright, let's tackle this problem. I need to determine the category for a Hacker News post based solely on its </span>\n",
       "<span style=\"color: #000000; text-decoration-color: #000000\">title: </span><span style=\"color: #008000; text-decoration-color: #008000\">\"NSA shares raw intelligence including Americans' data with Israel.\"</span>\n",
       "\n",
       "<span style=\"color: #000000; text-decoration-color: #000000\">First, I'll break down the title. The NSA </span><span style=\"color: #000000; text-decoration-color: #000000; font-weight: bold\">(</span><span style=\"color: #000000; text-decoration-color: #000000\">National Security Agency</span><span style=\"color: #000000; text-decoration-color: #000000; font-weight: bold\">)</span><span style=\"color: #000000; text-decoration-color: #000000\"> is involved in sharing intelligence that </span>\n",
       "<span style=\"color: #000000; text-decoration-color: #000000\">includes American citizens' data with Israel. This sounds like it's related to cybersecurity because it involves </span>\n",
       "<span style=\"color: #000000; text-decoration-color: #000000\">national security and the sharing of sensitive information.</span>\n",
       "\n",
       "<span style=\"color: #000000; text-decoration-color: #000000\">Looking at the categories provided: dev, web, ai_ml, security, business, career, science, tools, culture, </span>\n",
       "<span style=\"color: #000000; text-decoration-color: #000000\">tech_news. The title clearly mentions the NSA and intelligence sharing, which ties directly into cybersecurity </span>\n",
       "<span style=\"color: #000000; text-decoration-color: #000000\">concerns. There's no mention of programming languages, software development practices, AI, machine learning, </span>\n",
       "<span style=\"color: #000000; text-decoration-color: #000000\">business deals, job discussions, scientific research, tools, industry trends, or tech news in general.</span>\n",
       "\n",
       "<span style=\"color: #000000; text-decoration-color: #000000\">Security is the category that fits here because it's about protecting government data and national security through</span>\n",
       "<span style=\"color: #000000; text-decoration-color: #000000\">intelligence sharing with another country.</span>\n",
       "<span style=\"color: #000000; text-decoration-color: #000000\">&lt;</span><span style=\"color: #800080; text-decoration-color: #800080\">/</span><span style=\"color: #ff00ff; text-decoration-color: #ff00ff\">think</span><span style=\"font-weight: bold\">&gt;</span>\n",
       "\n",
       "<span style=\"font-weight: bold\">{</span><span style=\"color: #008000; text-decoration-color: #008000\">\"explanation\"</span>: <span style=\"color: #008000; text-decoration-color: #008000\">\"The title discusses the NSA sharing raw intelligence involving American citizens' data with </span>\n",
       "<span style=\"color: #008000; text-decoration-color: #008000\">Israel, which directly relates to cybersecurity measures. This falls under the category of 'security' as it </span>\n",
       "<span style=\"color: #008000; text-decoration-color: #008000\">pertains to national security practices and data protection.\"</span>, <span style=\"color: #008000; text-decoration-color: #008000\">\"label\"</span>: <span style=\"color: #008000; text-decoration-color: #008000\">\"security\"</span><span style=\"font-weight: bold\">}</span>\n",
       "</pre>\n"
      ],
      "text/plain": [
       "\u001b[1m<\u001b[0m\u001b[1;95mthink\u001b[0m\u001b[39m>\u001b[0m\n",
       "\u001b[39mAlright, let's tackle this problem. I need to determine the category for a Hacker News post based solely on its \u001b[0m\n",
       "\u001b[39mtitle: \u001b[0m\u001b[32m\"NSA shares raw intelligence including Americans' data with Israel.\"\u001b[0m\n",
       "\n",
       "\u001b[39mFirst, I'll break down the title. The NSA \u001b[0m\u001b[1;39m(\u001b[0m\u001b[39mNational Security Agency\u001b[0m\u001b[1;39m)\u001b[0m\u001b[39m is involved in sharing intelligence that \u001b[0m\n",
       "\u001b[39mincludes American citizens' data with Israel. This sounds like it's related to cybersecurity because it involves \u001b[0m\n",
       "\u001b[39mnational security and the sharing of sensitive information.\u001b[0m\n",
       "\n",
       "\u001b[39mLooking at the categories provided: dev, web, ai_ml, security, business, career, science, tools, culture, \u001b[0m\n",
       "\u001b[39mtech_news. The title clearly mentions the NSA and intelligence sharing, which ties directly into cybersecurity \u001b[0m\n",
       "\u001b[39mconcerns. There's no mention of programming languages, software development practices, AI, machine learning, \u001b[0m\n",
       "\u001b[39mbusiness deals, job discussions, scientific research, tools, industry trends, or tech news in general.\u001b[0m\n",
       "\n",
       "\u001b[39mSecurity is the category that fits here because it's about protecting government data and national security through\u001b[0m\n",
       "\u001b[39mintelligence sharing with another country.\u001b[0m\n",
       "\u001b[39m<\u001b[0m\u001b[35m/\u001b[0m\u001b[95mthink\u001b[0m\u001b[1m>\u001b[0m\n",
       "\n",
       "\u001b[1m{\u001b[0m\u001b[32m\"explanation\"\u001b[0m: \u001b[32m\"The title discusses the NSA sharing raw intelligence involving American citizens' data with \u001b[0m\n",
       "\u001b[32mIsrael, which directly relates to cybersecurity measures. This falls under the category of 'security' as it \u001b[0m\n",
       "\u001b[32mpertains to national security practices and data protection.\"\u001b[0m, \u001b[32m\"label\"\u001b[0m: \u001b[32m\"security\"\u001b[0m\u001b[1m}\u001b[0m\n"
      ]
     },
     "metadata": {},
     "output_type": "display_data"
    },
    {
     "data": {
      "text/html": [
       "<pre style=\"white-space:pre;overflow-x:auto;line-height:normal;font-family:Menlo,'DejaVu Sans Mono',consolas,'Courier New',monospace\">---\n",
       "</pre>\n"
      ],
      "text/plain": [
       "---\n"
      ]
     },
     "metadata": {},
     "output_type": "display_data"
    },
    {
     "data": {
      "text/html": [
       "<pre style=\"white-space:pre;overflow-x:auto;line-height:normal;font-family:Menlo,'DejaVu Sans Mono',consolas,'Courier New',monospace\">Washington Post Is First Paper to Call for Prosecution of Its Own Source\n",
       "</pre>\n"
      ],
      "text/plain": [
       "Washington Post Is First Paper to Call for Prosecution of Its Own Source\n"
      ]
     },
     "metadata": {},
     "output_type": "display_data"
    },
    {
     "data": {
      "text/html": [
       "<pre style=\"white-space:pre;overflow-x:auto;line-height:normal;font-family:Menlo,'DejaVu Sans Mono',consolas,'Courier New',monospace\"><span style=\"font-weight: bold\">&lt;</span><span style=\"color: #ff00ff; text-decoration-color: #ff00ff; font-weight: bold\">think</span><span style=\"color: #000000; text-decoration-color: #000000\">&gt;</span>\n",
       "<span style=\"color: #000000; text-decoration-color: #000000\">Alright, I'm looking at this title: </span><span style=\"color: #008000; text-decoration-color: #008000\">\"Washington Post Is First Paper to Call for Prosecution of Its Own Source.\"</span><span style=\"color: #000000; text-decoration-color: #000000\"> </span>\n",
       "<span style=\"color: #000000; text-decoration-color: #000000\">Hmm, so the Washington Post is a big news outlet. They're talking about prosecuting their own source, which seems </span>\n",
       "<span style=\"color: #000000; text-decoration-color: #000000\">like it could be related to some kind of scandal or legal action against themselves.</span>\n",
       "\n",
       "<span style=\"color: #000000; text-decoration-color: #000000\">Let me break this down. The main elements here are the Washington Post calling out itself and suggesting </span>\n",
       "<span style=\"color: #000000; text-decoration-color: #000000\">prosecution for its sources. That sounds more like a legal or news-related topic rather than something </span>\n",
       "<span style=\"color: #000000; text-decoration-color: #000000\">tech-related. There's no mention of programming, development tools, AI, machine learning, security vulnerabilities,</span>\n",
       "<span style=\"color: #000000; text-decoration-color: #000000\">or anything like that in the title.</span>\n",
       "\n",
       "<span style=\"color: #000000; text-decoration-color: #000000\">The options given include categories like dev </span><span style=\"color: #000000; text-decoration-color: #000000; font-weight: bold\">(</span><span style=\"color: #000000; text-decoration-color: #000000\">programming</span><span style=\"color: #000000; text-decoration-color: #000000; font-weight: bold\">)</span><span style=\"color: #000000; text-decoration-color: #000000\">, web </span><span style=\"color: #000000; text-decoration-color: #000000; font-weight: bold\">(</span><span style=\"color: #000000; text-decoration-color: #000000\">web stuff</span><span style=\"color: #000000; text-decoration-color: #000000; font-weight: bold\">)</span><span style=\"color: #000000; text-decoration-color: #000000\">, ai_ml </span><span style=\"color: #000000; text-decoration-color: #000000; font-weight: bold\">(</span><span style=\"color: #000000; text-decoration-color: #000000\">AI/ML</span><span style=\"color: #000000; text-decoration-color: #000000; font-weight: bold\">)</span><span style=\"color: #000000; text-decoration-color: #000000\">, security, business, </span>\n",
       "<span style=\"color: #000000; text-decoration-color: #000000\">career, science, tools, culture, and tech news. Since this is about a newspaper's legal action against their </span>\n",
       "<span style=\"color: #000000; text-decoration-color: #000000\">sources, it falls under general technology news because it's reporting on an event that's in the news.</span>\n",
       "\n",
       "<span style=\"color: #000000; text-decoration-color: #000000\">I don't see any specific mention of tech details or particular software here. It's more about current events </span>\n",
       "<span style=\"color: #000000; text-decoration-color: #000000\">involving a media outlet taking a strong stance legally. So </span><span style=\"color: #008000; text-decoration-color: #008000\">\"tech_news\"</span><span style=\"color: #000000; text-decoration-color: #000000\"> seems appropriate.</span>\n",
       "<span style=\"color: #000000; text-decoration-color: #000000\">&lt;</span><span style=\"color: #800080; text-decoration-color: #800080\">/</span><span style=\"color: #ff00ff; text-decoration-color: #ff00ff\">think</span><span style=\"font-weight: bold\">&gt;</span>\n",
       "\n",
       "<span style=\"font-weight: bold\">{</span><span style=\"color: #008000; text-decoration-color: #008000\">\"explanation\"</span>: <span style=\"color: #008000; text-decoration-color: #008000\">\"The title discusses the Washington Post, a well-known media outlet, calling for prosecution of its</span>\n",
       "<span style=\"color: #008000; text-decoration-color: #008000\">own source. This pertains to legal and news developments within the tech industry context. The focus is on current </span>\n",
       "<span style=\"color: #008000; text-decoration-color: #008000\">events involving media and legal actions rather than specific technical details or software applications.\"</span>, \n",
       "<span style=\"color: #008000; text-decoration-color: #008000\">\"label\"</span>: <span style=\"color: #008000; text-decoration-color: #008000\">\"tech_news\"</span><span style=\"font-weight: bold\">}</span>\n",
       "</pre>\n"
      ],
      "text/plain": [
       "\u001b[1m<\u001b[0m\u001b[1;95mthink\u001b[0m\u001b[39m>\u001b[0m\n",
       "\u001b[39mAlright, I'm looking at this title: \u001b[0m\u001b[32m\"Washington Post Is First Paper to Call for Prosecution of Its Own Source.\"\u001b[0m\u001b[39m \u001b[0m\n",
       "\u001b[39mHmm, so the Washington Post is a big news outlet. They're talking about prosecuting their own source, which seems \u001b[0m\n",
       "\u001b[39mlike it could be related to some kind of scandal or legal action against themselves.\u001b[0m\n",
       "\n",
       "\u001b[39mLet me break this down. The main elements here are the Washington Post calling out itself and suggesting \u001b[0m\n",
       "\u001b[39mprosecution for its sources. That sounds more like a legal or news-related topic rather than something \u001b[0m\n",
       "\u001b[39mtech-related. There's no mention of programming, development tools, AI, machine learning, security vulnerabilities,\u001b[0m\n",
       "\u001b[39mor anything like that in the title.\u001b[0m\n",
       "\n",
       "\u001b[39mThe options given include categories like dev \u001b[0m\u001b[1;39m(\u001b[0m\u001b[39mprogramming\u001b[0m\u001b[1;39m)\u001b[0m\u001b[39m, web \u001b[0m\u001b[1;39m(\u001b[0m\u001b[39mweb stuff\u001b[0m\u001b[1;39m)\u001b[0m\u001b[39m, ai_ml \u001b[0m\u001b[1;39m(\u001b[0m\u001b[39mAI/ML\u001b[0m\u001b[1;39m)\u001b[0m\u001b[39m, security, business, \u001b[0m\n",
       "\u001b[39mcareer, science, tools, culture, and tech news. Since this is about a newspaper's legal action against their \u001b[0m\n",
       "\u001b[39msources, it falls under general technology news because it's reporting on an event that's in the news.\u001b[0m\n",
       "\n",
       "\u001b[39mI don't see any specific mention of tech details or particular software here. It's more about current events \u001b[0m\n",
       "\u001b[39minvolving a media outlet taking a strong stance legally. So \u001b[0m\u001b[32m\"tech_news\"\u001b[0m\u001b[39m seems appropriate.\u001b[0m\n",
       "\u001b[39m<\u001b[0m\u001b[35m/\u001b[0m\u001b[95mthink\u001b[0m\u001b[1m>\u001b[0m\n",
       "\n",
       "\u001b[1m{\u001b[0m\u001b[32m\"explanation\"\u001b[0m: \u001b[32m\"The title discusses the Washington Post, a well-known media outlet, calling for prosecution of its\u001b[0m\n",
       "\u001b[32mown source. This pertains to legal and news developments within the tech industry context. The focus is on current \u001b[0m\n",
       "\u001b[32mevents involving media and legal actions rather than specific technical details or software applications.\"\u001b[0m, \n",
       "\u001b[32m\"label\"\u001b[0m: \u001b[32m\"tech_news\"\u001b[0m\u001b[1m}\u001b[0m\n"
      ]
     },
     "metadata": {},
     "output_type": "display_data"
    },
    {
     "data": {
      "text/html": [
       "<pre style=\"white-space:pre;overflow-x:auto;line-height:normal;font-family:Menlo,'DejaVu Sans Mono',consolas,'Courier New',monospace\">---\n",
       "</pre>\n"
      ],
      "text/plain": [
       "---\n"
      ]
     },
     "metadata": {},
     "output_type": "display_data"
    },
    {
     "data": {
      "text/html": [
       "<pre style=\"white-space:pre;overflow-x:auto;line-height:normal;font-family:Menlo,'DejaVu Sans Mono',consolas,'Courier New',monospace\">Uber Fires Anthony Levandowski\n",
       "</pre>\n"
      ],
      "text/plain": [
       "Uber Fires Anthony Levandowski\n"
      ]
     },
     "metadata": {},
     "output_type": "display_data"
    },
    {
     "data": {
      "text/html": [
       "<pre style=\"white-space:pre;overflow-x:auto;line-height:normal;font-family:Menlo,'DejaVu Sans Mono',consolas,'Courier New',monospace\"><span style=\"font-weight: bold\">&lt;</span><span style=\"color: #ff00ff; text-decoration-color: #ff00ff; font-weight: bold\">think</span><span style=\"color: #000000; text-decoration-color: #000000\">&gt;</span>\n",
       "<span style=\"color: #000000; text-decoration-color: #000000\">Alright, so I need to figure out which category the Hacker News post with the title </span><span style=\"color: #008000; text-decoration-color: #008000\">\"Uber Fires Anthony </span>\n",
       "<span style=\"color: #008000; text-decoration-color: #008000\">Levandowski\"</span><span style=\"color: #000000; text-decoration-color: #000000\"> belongs to. Let's break this down step by step.</span>\n",
       "\n",
       "<span style=\"color: #000000; text-decoration-color: #000000\">First, looking at the title: it mentions Uber firing someone named Anthony Levandowski. Uber is a well-known </span>\n",
       "<span style=\"color: #000000; text-decoration-color: #000000\">company that operates ride-sharing services, so this seems related to a company situation or perhaps an internal </span>\n",
       "<span style=\"color: #000000; text-decoration-color: #000000\">personnel change.</span>\n",
       "\n",
       "<span style=\"color: #000000; text-decoration-color: #000000\">Now, I'll go through each category one by one to see which fits best:</span>\n",
       "\n",
       "<span style=\"color: #008080; text-decoration-color: #008080; font-weight: bold\">1</span><span style=\"color: #000000; text-decoration-color: #000000\">. **dev**: This relates to programming, coding, software development practices. The title doesn't mention anything</span>\n",
       "<span style=\"color: #000000; text-decoration-color: #000000\">about technology, coding, or software, so probably not here.</span>\n",
       "<span style=\"color: #008080; text-decoration-color: #008080; font-weight: bold\">2</span><span style=\"color: #000000; text-decoration-color: #000000\">. **web**: This is about web development, frameworks, browsers, etc. Again, no indication of anything related to </span>\n",
       "<span style=\"color: #000000; text-decoration-color: #000000\">web stuff in the title.</span>\n",
       "<span style=\"color: #008080; text-decoration-color: #008080; font-weight: bold\">3</span><span style=\"color: #000000; text-decoration-color: #000000\">. **ai_ml**: Artificial intelligence and machine learning. Not relevant here.</span>\n",
       "<span style=\"color: #008080; text-decoration-color: #008080; font-weight: bold\">4</span><span style=\"color: #000000; text-decoration-color: #000000\">. **security**: Cybersecurity, privacy issues. While Uber might have security aspects, the title doesn't specify </span>\n",
       "<span style=\"color: #000000; text-decoration-color: #000000\">any technical security details.</span>\n",
       "<span style=\"color: #008080; text-decoration-color: #008080; font-weight: bold\">5</span><span style=\"color: #000000; text-decoration-color: #000000\">. **business**: Startups, funding, acquisitions, company news. This fits a bit because Uber is a business entity, </span>\n",
       "<span style=\"color: #000000; text-decoration-color: #000000\">but the title specifically mentions an employee being fired, which could relate to business operations or HR </span>\n",
       "<span style=\"color: #000000; text-decoration-color: #000000\">changes within the company.</span>\n",
       "<span style=\"color: #008080; text-decoration-color: #008080; font-weight: bold\">6</span><span style=\"color: #000000; text-decoration-color: #000000\">. **career**: Job seeking or workplace discussions. Maybe indirectly related since firing someone might affect </span>\n",
       "<span style=\"color: #000000; text-decoration-color: #000000\">careers, but the title doesn't talk about job opportunities or professional development.</span>\n",
       "<span style=\"color: #008080; text-decoration-color: #008080; font-weight: bold\">7</span><span style=\"color: #000000; text-decoration-color: #000000\">. **science**: Research areas like physics, biology, etc. Not applicable here.</span>\n",
       "<span style=\"color: #008080; text-decoration-color: #008080; font-weight: bold\">8</span><span style=\"color: #000000; text-decoration-color: #000000\">. **tools**: Development tools and utilities. Doesn't seem to fit.</span>\n",
       "<span style=\"color: #008080; text-decoration-color: #008080; font-weight: bold\">9</span><span style=\"color: #000000; text-decoration-color: #000000\">. **culture**: Tech industry trends or community issues. Uber is part of the tech industry, but again, the title </span>\n",
       "<span style=\"color: #000000; text-decoration-color: #000000\">doesn't mention any cultural aspects.</span>\n",
       "<span style=\"color: #008080; text-decoration-color: #008080; font-weight: bold\">10</span><span style=\"color: #000000; text-decoration-color: #000000\">. **tech_news**: General technology news. While Uber operates in a tech space, this seems more specific than just</span>\n",
       "<span style=\"color: #000000; text-decoration-color: #000000\">general tech news.</span>\n",
       "\n",
       "<span style=\"color: #000000; text-decoration-color: #000000\">The key here is that the title mentions an action </span><span style=\"color: #000000; text-decoration-color: #000000; font-weight: bold\">(</span><span style=\"color: #000000; text-decoration-color: #000000\">firing</span><span style=\"color: #000000; text-decoration-color: #000000; font-weight: bold\">)</span><span style=\"color: #000000; text-decoration-color: #000000\"> taken by a company </span><span style=\"color: #000000; text-decoration-color: #000000; font-weight: bold\">(</span><span style=\"color: #000000; text-decoration-color: #000000\">Uber</span><span style=\"color: #000000; text-decoration-color: #000000; font-weight: bold\">)</span><span style=\"color: #000000; text-decoration-color: #000000\">. Firing someone falls under </span>\n",
       "<span style=\"color: #000000; text-decoration-color: #000000\">business operations, specifically HR or organizational changes within a company. This is different from, say, a </span>\n",
       "<span style=\"color: #000000; text-decoration-color: #000000\">technical announcement about a product launch or a security breach. So, it's more about the business aspect of a </span>\n",
       "<span style=\"color: #000000; text-decoration-color: #000000\">company making personnel changes.</span>\n",
       "\n",
       "<span style=\"color: #000000; text-decoration-color: #000000\">I think </span><span style=\"color: #008000; text-decoration-color: #008000\">\"business\"</span><span style=\"color: #000000; text-decoration-color: #000000\"> is the best fit because it deals with company news and operations, which includes firing an </span>\n",
       "<span style=\"color: #000000; text-decoration-color: #000000\">employee.</span>\n",
       "<span style=\"color: #000000; text-decoration-color: #000000\">&lt;</span><span style=\"color: #800080; text-decoration-color: #800080\">/</span><span style=\"color: #ff00ff; text-decoration-color: #ff00ff\">think</span><span style=\"font-weight: bold\">&gt;</span>\n",
       "\n",
       "<span style=\"font-weight: bold\">{</span><span style=\"color: #008000; text-decoration-color: #008000\">\"explanation\"</span>: <span style=\"color: #008000; text-decoration-color: #008000\">\"The title refers to a personnel change at Uber, indicating it falls under company business </span>\n",
       "<span style=\"color: #008000; text-decoration-color: #008000\">operations. The category 'business' encompasses such organizational news.\"</span>, <span style=\"color: #008000; text-decoration-color: #008000\">\"label\"</span>: <span style=\"color: #008000; text-decoration-color: #008000\">\"business\"</span><span style=\"font-weight: bold\">}</span>\n",
       "</pre>\n"
      ],
      "text/plain": [
       "\u001b[1m<\u001b[0m\u001b[1;95mthink\u001b[0m\u001b[39m>\u001b[0m\n",
       "\u001b[39mAlright, so I need to figure out which category the Hacker News post with the title \u001b[0m\u001b[32m\"Uber Fires Anthony \u001b[0m\n",
       "\u001b[32mLevandowski\"\u001b[0m\u001b[39m belongs to. Let's break this down step by step.\u001b[0m\n",
       "\n",
       "\u001b[39mFirst, looking at the title: it mentions Uber firing someone named Anthony Levandowski. Uber is a well-known \u001b[0m\n",
       "\u001b[39mcompany that operates ride-sharing services, so this seems related to a company situation or perhaps an internal \u001b[0m\n",
       "\u001b[39mpersonnel change.\u001b[0m\n",
       "\n",
       "\u001b[39mNow, I'll go through each category one by one to see which fits best:\u001b[0m\n",
       "\n",
       "\u001b[1;36m1\u001b[0m\u001b[39m. **dev**: This relates to programming, coding, software development practices. The title doesn't mention anything\u001b[0m\n",
       "\u001b[39mabout technology, coding, or software, so probably not here.\u001b[0m\n",
       "\u001b[1;36m2\u001b[0m\u001b[39m. **web**: This is about web development, frameworks, browsers, etc. Again, no indication of anything related to \u001b[0m\n",
       "\u001b[39mweb stuff in the title.\u001b[0m\n",
       "\u001b[1;36m3\u001b[0m\u001b[39m. **ai_ml**: Artificial intelligence and machine learning. Not relevant here.\u001b[0m\n",
       "\u001b[1;36m4\u001b[0m\u001b[39m. **security**: Cybersecurity, privacy issues. While Uber might have security aspects, the title doesn't specify \u001b[0m\n",
       "\u001b[39many technical security details.\u001b[0m\n",
       "\u001b[1;36m5\u001b[0m\u001b[39m. **business**: Startups, funding, acquisitions, company news. This fits a bit because Uber is a business entity, \u001b[0m\n",
       "\u001b[39mbut the title specifically mentions an employee being fired, which could relate to business operations or HR \u001b[0m\n",
       "\u001b[39mchanges within the company.\u001b[0m\n",
       "\u001b[1;36m6\u001b[0m\u001b[39m. **career**: Job seeking or workplace discussions. Maybe indirectly related since firing someone might affect \u001b[0m\n",
       "\u001b[39mcareers, but the title doesn't talk about job opportunities or professional development.\u001b[0m\n",
       "\u001b[1;36m7\u001b[0m\u001b[39m. **science**: Research areas like physics, biology, etc. Not applicable here.\u001b[0m\n",
       "\u001b[1;36m8\u001b[0m\u001b[39m. **tools**: Development tools and utilities. Doesn't seem to fit.\u001b[0m\n",
       "\u001b[1;36m9\u001b[0m\u001b[39m. **culture**: Tech industry trends or community issues. Uber is part of the tech industry, but again, the title \u001b[0m\n",
       "\u001b[39mdoesn't mention any cultural aspects.\u001b[0m\n",
       "\u001b[1;36m10\u001b[0m\u001b[39m. **tech_news**: General technology news. While Uber operates in a tech space, this seems more specific than just\u001b[0m\n",
       "\u001b[39mgeneral tech news.\u001b[0m\n",
       "\n",
       "\u001b[39mThe key here is that the title mentions an action \u001b[0m\u001b[1;39m(\u001b[0m\u001b[39mfiring\u001b[0m\u001b[1;39m)\u001b[0m\u001b[39m taken by a company \u001b[0m\u001b[1;39m(\u001b[0m\u001b[39mUber\u001b[0m\u001b[1;39m)\u001b[0m\u001b[39m. Firing someone falls under \u001b[0m\n",
       "\u001b[39mbusiness operations, specifically HR or organizational changes within a company. This is different from, say, a \u001b[0m\n",
       "\u001b[39mtechnical announcement about a product launch or a security breach. So, it's more about the business aspect of a \u001b[0m\n",
       "\u001b[39mcompany making personnel changes.\u001b[0m\n",
       "\n",
       "\u001b[39mI think \u001b[0m\u001b[32m\"business\"\u001b[0m\u001b[39m is the best fit because it deals with company news and operations, which includes firing an \u001b[0m\n",
       "\u001b[39memployee.\u001b[0m\n",
       "\u001b[39m<\u001b[0m\u001b[35m/\u001b[0m\u001b[95mthink\u001b[0m\u001b[1m>\u001b[0m\n",
       "\n",
       "\u001b[1m{\u001b[0m\u001b[32m\"explanation\"\u001b[0m: \u001b[32m\"The title refers to a personnel change at Uber, indicating it falls under company business \u001b[0m\n",
       "\u001b[32moperations. The category 'business' encompasses such organizational news.\"\u001b[0m, \u001b[32m\"label\"\u001b[0m: \u001b[32m\"business\"\u001b[0m\u001b[1m}\u001b[0m\n"
      ]
     },
     "metadata": {},
     "output_type": "display_data"
    },
    {
     "data": {
      "text/html": [
       "<pre style=\"white-space:pre;overflow-x:auto;line-height:normal;font-family:Menlo,'DejaVu Sans Mono',consolas,'Courier New',monospace\">---\n",
       "</pre>\n"
      ],
      "text/plain": [
       "---\n"
      ]
     },
     "metadata": {},
     "output_type": "display_data"
    },
    {
     "data": {
      "text/html": [
       "<pre style=\"white-space:pre;overflow-x:auto;line-height:normal;font-family:Menlo,'DejaVu Sans Mono',consolas,'Courier New',monospace\">AlphaGo Zero: Learning from scratch\n",
       "</pre>\n"
      ],
      "text/plain": [
       "AlphaGo Zero: Learning from scratch\n"
      ]
     },
     "metadata": {},
     "output_type": "display_data"
    },
    {
     "data": {
      "text/html": [
       "<pre style=\"white-space:pre;overflow-x:auto;line-height:normal;font-family:Menlo,'DejaVu Sans Mono',consolas,'Courier New',monospace\"><span style=\"font-weight: bold\">&lt;</span><span style=\"color: #ff00ff; text-decoration-color: #ff00ff; font-weight: bold\">think</span><span style=\"color: #000000; text-decoration-color: #000000\">&gt;</span>\n",
       "<span style=\"color: #000000; text-decoration-color: #000000\">Okay, so I need to figure out which category the Hacker News post with the title </span><span style=\"color: #008000; text-decoration-color: #008000\">\"AlphaGo Zero: Learning from </span>\n",
       "<span style=\"color: #008000; text-decoration-color: #008000\">scratch\"</span><span style=\"color: #000000; text-decoration-color: #000000\"> belongs to. The categories are dev, web, ai_ml, security, business, career, science, tools, culture, and </span>\n",
       "<span style=\"color: #000000; text-decoration-color: #000000\">tech news.</span>\n",
       "\n",
       "<span style=\"color: #000000; text-decoration-color: #000000\">First, looking at the title itself: it mentions AlphaGo Zero, which I know is an AI that plays Go, a board game. </span>\n",
       "<span style=\"color: #008000; text-decoration-color: #008000\">\"Learning from scratch\"</span><span style=\"color: #000000; text-decoration-color: #000000\"> suggests it's about how the AI learned without prior knowledge or training data beyond what</span>\n",
       "<span style=\"color: #000000; text-decoration-color: #000000\">was provided during its creation.</span>\n",
       "\n",
       "<span style=\"color: #000000; text-decoration-color: #000000\">AlphaGo Zero is notable because it used self-play and advanced algorithms to teach itself the game effectively. </span>\n",
       "<span style=\"color: #000000; text-decoration-color: #000000\">This involves machine learning techniques since it's an AI learning through experience, not traditional </span>\n",
       "<span style=\"color: #000000; text-decoration-color: #000000\">programming.</span>\n",
       "\n",
       "<span style=\"color: #000000; text-decoration-color: #000000\">Now, looking at the categories: dev is about programming and software development, web is web stuff, ai_ml is </span>\n",
       "<span style=\"color: #000000; text-decoration-color: #000000\">obviously related to AI and ML, security deals with cybersecurity, business is about companies, etc.</span>\n",
       "\n",
       "<span style=\"color: #000000; text-decoration-color: #000000\">Since AlphaGo Zero is a study in AI and machine learning techniques for game playing, it's directly related to AI </span>\n",
       "<span style=\"color: #000000; text-decoration-color: #000000\">and ML. It doesn't involve web development, security, business, or any other of those areas. So the best fit would </span>\n",
       "<span style=\"color: #000000; text-decoration-color: #000000\">be ai_ml.</span>\n",
       "<span style=\"color: #000000; text-decoration-color: #000000\">&lt;</span><span style=\"color: #800080; text-decoration-color: #800080\">/</span><span style=\"color: #ff00ff; text-decoration-color: #ff00ff\">think</span><span style=\"font-weight: bold\">&gt;</span>\n",
       "\n",
       "The title discusses an AI's learning process, which relates to artificial intelligence and machine learning.\n",
       "\n",
       "```json\n",
       "<span style=\"font-weight: bold\">{</span><span style=\"color: #008000; text-decoration-color: #008000\">\"explanation\"</span>: <span style=\"color: #008000; text-decoration-color: #008000\">\"The post discusses AlphaGo Zero, an AI system that learned to play Go without prior training data </span>\n",
       "<span style=\"color: #008000; text-decoration-color: #008000\">through self-play, highlighting its use of machine learning techniques. This makes the category 'ai_ml' as it </span>\n",
       "<span style=\"color: #008000; text-decoration-color: #008000\">directly pertains to artificial intelligence and machine learning applications.\"</span>, <span style=\"color: #008000; text-decoration-color: #008000\">\"label\"</span>: <span style=\"color: #008000; text-decoration-color: #008000\">\"ai_ml\"</span><span style=\"font-weight: bold\">}</span>\n",
       "```\n",
       "</pre>\n"
      ],
      "text/plain": [
       "\u001b[1m<\u001b[0m\u001b[1;95mthink\u001b[0m\u001b[39m>\u001b[0m\n",
       "\u001b[39mOkay, so I need to figure out which category the Hacker News post with the title \u001b[0m\u001b[32m\"AlphaGo Zero: Learning from \u001b[0m\n",
       "\u001b[32mscratch\"\u001b[0m\u001b[39m belongs to. The categories are dev, web, ai_ml, security, business, career, science, tools, culture, and \u001b[0m\n",
       "\u001b[39mtech news.\u001b[0m\n",
       "\n",
       "\u001b[39mFirst, looking at the title itself: it mentions AlphaGo Zero, which I know is an AI that plays Go, a board game. \u001b[0m\n",
       "\u001b[32m\"Learning from scratch\"\u001b[0m\u001b[39m suggests it's about how the AI learned without prior knowledge or training data beyond what\u001b[0m\n",
       "\u001b[39mwas provided during its creation.\u001b[0m\n",
       "\n",
       "\u001b[39mAlphaGo Zero is notable because it used self-play and advanced algorithms to teach itself the game effectively. \u001b[0m\n",
       "\u001b[39mThis involves machine learning techniques since it's an AI learning through experience, not traditional \u001b[0m\n",
       "\u001b[39mprogramming.\u001b[0m\n",
       "\n",
       "\u001b[39mNow, looking at the categories: dev is about programming and software development, web is web stuff, ai_ml is \u001b[0m\n",
       "\u001b[39mobviously related to AI and ML, security deals with cybersecurity, business is about companies, etc.\u001b[0m\n",
       "\n",
       "\u001b[39mSince AlphaGo Zero is a study in AI and machine learning techniques for game playing, it's directly related to AI \u001b[0m\n",
       "\u001b[39mand ML. It doesn't involve web development, security, business, or any other of those areas. So the best fit would \u001b[0m\n",
       "\u001b[39mbe ai_ml.\u001b[0m\n",
       "\u001b[39m<\u001b[0m\u001b[35m/\u001b[0m\u001b[95mthink\u001b[0m\u001b[1m>\u001b[0m\n",
       "\n",
       "The title discusses an AI's learning process, which relates to artificial intelligence and machine learning.\n",
       "\n",
       "```json\n",
       "\u001b[1m{\u001b[0m\u001b[32m\"explanation\"\u001b[0m: \u001b[32m\"The post discusses AlphaGo Zero, an AI system that learned to play Go without prior training data \u001b[0m\n",
       "\u001b[32mthrough self-play, highlighting its use of machine learning techniques. This makes the category 'ai_ml' as it \u001b[0m\n",
       "\u001b[32mdirectly pertains to artificial intelligence and machine learning applications.\"\u001b[0m, \u001b[32m\"label\"\u001b[0m: \u001b[32m\"ai_ml\"\u001b[0m\u001b[1m}\u001b[0m\n",
       "```\n"
      ]
     },
     "metadata": {},
     "output_type": "display_data"
    },
    {
     "data": {
      "text/html": [
       "<pre style=\"white-space:pre;overflow-x:auto;line-height:normal;font-family:Menlo,'DejaVu Sans Mono',consolas,'Courier New',monospace\">---\n",
       "</pre>\n"
      ],
      "text/plain": [
       "---\n"
      ]
     },
     "metadata": {},
     "output_type": "display_data"
    }
   ],
   "source": [
    "from rich import print as rich_print\n",
    "\n",
    "results = []\n",
    "for example in examples:\n",
    "    prediction = predict_label_without_structured(example)\n",
    "    results.append(prediction)\n",
    "    rich_print(example)\n",
    "    rich_print(prediction)\n",
    "    rich_print(\"---\")"
   ]
  },
  {
   "cell_type": "code",
   "execution_count": 13,
   "metadata": {},
   "outputs": [
    {
     "data": {
      "text/plain": [
       "('<think>\\nAlright, I need to figure out which category this Hacker News post belongs to based on the title: \"Steve Jobs has passed away.\" The available categories are dev, web, ai_ml, security, business, career, science, tools, culture, and tech_news.\\n\\nFirst, I\\'ll read through each category to see how they fit. \\n\\n- **dev**: This is for programming topics like languages or practices.\\n- **web**: Related to web development or frameworks.\\n- **ai_ml**: Artificial intelligence and machine learning.\\n- **security**: Cybersecurity stuff.\\n- **business**: Startups, funding, etc.\\n- **career**: Job-related discussions.\\n- **science**: Research areas like physics or biology.\\n- **tools**: Development tools or software applications.\\n- **culture**: Tech trends or community issues.\\n- **tech_news**: General tech updates.\\n\\nThe title is about Steve Jobs passing away. Steve Jobs was a significant figure in the tech industry, particularly known for Apple. However, the title itself doesn\\'t discuss any technical topic, AI, security details, business deals, career moves, scientific research, tools, culture trends, or anything directly related to programming or web development.\\n\\nIt\\'s more of an obituary or announcement about a notable person in the tech field. Since it\\'s not about any specific category like programming or technology news updates per se, but rather announcing someone\\'s death within the tech context, I\\'m leaning towards **tech_news** as the most appropriate category because it covers general tech updates and industry news.\\n\\nOther categories don\\'t fit because they\\'re too specific to technical topics. So, \"Steve Jobs has passed away\" is a notable event in the tech world but doesn\\'t fall into any of the other specialized categories listed.\\n</think>\\n\\n{\"explanation\": \"The title mentions Steve Jobs passing away, which is an announcement about a notable figure in the tech industry. While it\\'s not directly technical or news about updates, it falls under general tech news as it pertains to a significant event within that field.\", \"label\": \"tech_news\"}',\n",
       " {'explanation': \"The title mentions Steve Jobs passing away, which is an announcement about a notable figure in the tech industry. While it's not directly technical or news about updates, it falls under general tech news as it pertains to a significant event within that field.\",\n",
       "  'label': 'tech_news'})"
      ]
     },
     "execution_count": 13,
     "metadata": {},
     "output_type": "execute_result"
    }
   ],
   "source": [
    "import contextlib\n",
    "import re\n",
    "import json\n",
    "\n",
    "JSON_PATTERN = re.compile(r\"```json\\n(.*?)```\", re.DOTALL)\n",
    "DIRECT_JSON_PATTERN = re.compile(r\"\\{[^}]*\\}\", re.DOTALL)\n",
    "\n",
    "\n",
    "def extract_json_from_text(text: str) -> tuple[str, dict | None]:\n",
    "    if match := JSON_PATTERN.search(text):\n",
    "        json_results = match.group(1)\n",
    "        with contextlib.suppress(json.JSONDecodeError):\n",
    "            return text, json.loads(json_results)\n",
    "    if match := DIRECT_JSON_PATTERN.search(text):\n",
    "        json_text = match.group(0)\n",
    "        with contextlib.suppress(json.JSONDecodeError):\n",
    "            return text, json.loads(json_text)\n",
    "    return text, None\n",
    "\n",
    "\n",
    "extract_json_from_text(results[0])"
   ]
  },
  {
   "cell_type": "markdown",
   "metadata": {},
   "source": [
    "## Generate dataset"
   ]
  },
  {
   "cell_type": "code",
   "execution_count": 44,
   "metadata": {},
   "outputs": [
    {
     "name": "stdout",
     "output_type": "stream",
     "text": [
      "Filtered title length stats:\n",
      "shape: (9, 2)\n",
      "┌────────────┬───────────┐\n",
      "│ statistic  ┆ value     │\n",
      "│ ---        ┆ ---       │\n",
      "│ str        ┆ f64       │\n",
      "╞════════════╪═══════════╡\n",
      "│ count      ┆ 4891.0    │\n",
      "│ null_count ┆ 0.0       │\n",
      "│ mean       ┆ 46.191576 │\n",
      "│ std        ┆ 19.263831 │\n",
      "│ min        ┆ 10.0      │\n",
      "│ 25%        ┆ 30.0      │\n",
      "│ 50%        ┆ 46.0      │\n",
      "│ 75%        ┆ 62.0      │\n",
      "│ max        ┆ 86.0      │\n",
      "└────────────┴───────────┘\n",
      "\n",
      "Filtered score distribution:\n",
      "shape: (12, 2)\n",
      "┌────────────┬────────────┐\n",
      "│ statistic  ┆ value      │\n",
      "│ ---        ┆ ---        │\n",
      "│ str        ┆ f64        │\n",
      "╞════════════╪════════════╡\n",
      "│ count      ┆ 4891.0     │\n",
      "│ null_count ┆ 0.0        │\n",
      "│ mean       ┆ 775.144142 │\n",
      "│ std        ┆ 351.60203  │\n",
      "│ min        ┆ 500.0      │\n",
      "│ …          ┆ …          │\n",
      "│ 75%        ┆ 842.0      │\n",
      "│ 90%        ┆ 1170.0     │\n",
      "│ 95%        ┆ 1423.0     │\n",
      "│ 99%        ┆ 2228.0     │\n",
      "│ max        ┆ 5771.0     │\n",
      "└────────────┴────────────┘\n"
     ]
    }
   ],
   "source": [
    "# Filter DataFrame\n",
    "filtered_df = df.filter(\n",
    "    (pl.col(\"score\") >= 300) & ~pl.col(\"title\").str.contains(\"Show HN|Ask HN\") & (pl.col(\"title\").str.len_chars() >= 10)\n",
    ")\n",
    "\n",
    "# Get stats on filtered title lengths\n",
    "filtered_title_lengths = filtered_df[\"title\"].str.len_chars()\n",
    "filtered_title_length_stats = filtered_title_lengths.describe()\n",
    "print(f\"Filtered title length stats:\\n{filtered_title_length_stats}\")\n",
    "\n",
    "# Get filtered score distribution\n",
    "filtered_score_stats = filtered_df[\"score\"].describe(percentiles=[0.25, 0.5, 0.75, 0.9, 0.95, 0.99])\n",
    "print(f\"\\nFiltered score distribution:\\n{filtered_score_stats}\")\n",
    "\n",
    "# Write filtered DataFrame to Parquet file\n",
    "filtered_df = filtered_df.sample(n=4000, seed=42)\n",
    "filtered_df.write_parquet(\"../data/hackernews_filtered.parquet\")"
   ]
  },
  {
   "cell_type": "code",
   "execution_count": null,
   "metadata": {},
   "outputs": [],
   "source": []
  }
 ],
 "metadata": {
  "kernelspec": {
   "display_name": ".venv",
   "language": "python",
   "name": "python3"
  },
  "language_info": {
   "codemirror_mode": {
    "name": "ipython",
    "version": 3
   },
   "file_extension": ".py",
   "mimetype": "text/x-python",
   "name": "python",
   "nbconvert_exporter": "python",
   "pygments_lexer": "ipython3",
   "version": "3.12.3"
  }
 },
 "nbformat": 4,
 "nbformat_minor": 2
}
